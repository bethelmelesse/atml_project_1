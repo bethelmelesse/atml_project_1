{
  "cells": [
    {
      "cell_type": "markdown",
      "metadata": {
        "id": "S3co2Lw0n1d1"
      },
      "source": [
        "# * Before you start, please make a copy to your drive or elsewhere *"
      ]
    },
    {
      "cell_type": "markdown",
      "metadata": {
        "id": "-IwcxuWIJTY3"
      },
      "source": [
        "## Setup environments"
      ]
    },
    {
      "cell_type": "code",
      "execution_count": 8,
      "metadata": {
        "colab": {
          "base_uri": "https://localhost:8080/"
        },
        "id": "p3WxLi3t8vCu",
        "outputId": "a55d8897-259a-41a8-aaca-050107f57e4b"
      },
      "outputs": [
        {
          "name": "stdout",
          "output_type": "stream",
          "text": [
            "1.12.0\n",
            "torch-scatter installed\n",
            "torch-sparse installed\n",
            "torch-geometric installed\n",
            "Looking in indexes: https://pypi.org/simple/\n",
            "Requirement already satisfied: ogb in /home/ubuntu/anaconda3/envs/bethel_env_gnn_39/lib/python3.9/site-packages (1.3.5)\n",
            "Requirement already satisfied: pandas>=0.24.0 in /home/ubuntu/anaconda3/envs/bethel_env_gnn_39/lib/python3.9/site-packages (from ogb) (1.5.1)\n",
            "Requirement already satisfied: torch>=1.6.0 in /home/ubuntu/anaconda3/envs/bethel_env_gnn_39/lib/python3.9/site-packages (from ogb) (1.12.0)\n",
            "Requirement already satisfied: urllib3>=1.24.0 in /home/ubuntu/anaconda3/envs/bethel_env_gnn_39/lib/python3.9/site-packages (from ogb) (1.26.12)\n",
            "Requirement already satisfied: tqdm>=4.29.0 in /home/ubuntu/anaconda3/envs/bethel_env_gnn_39/lib/python3.9/site-packages (from ogb) (4.64.1)\n",
            "Requirement already satisfied: six>=1.12.0 in /home/ubuntu/anaconda3/envs/bethel_env_gnn_39/lib/python3.9/site-packages (from ogb) (1.16.0)\n",
            "Requirement already satisfied: outdated>=0.2.0 in /home/ubuntu/anaconda3/envs/bethel_env_gnn_39/lib/python3.9/site-packages (from ogb) (0.2.2)\n",
            "Requirement already satisfied: scikit-learn>=0.20.0 in /home/ubuntu/anaconda3/envs/bethel_env_gnn_39/lib/python3.9/site-packages (from ogb) (1.1.3)\n",
            "Requirement already satisfied: numpy>=1.16.0 in /home/ubuntu/anaconda3/envs/bethel_env_gnn_39/lib/python3.9/site-packages (from ogb) (1.23.3)\n",
            "Requirement already satisfied: setuptools>=44 in /home/ubuntu/anaconda3/envs/bethel_env_gnn_39/lib/python3.9/site-packages (from outdated>=0.2.0->ogb) (65.5.0)\n",
            "Requirement already satisfied: littleutils in /home/ubuntu/anaconda3/envs/bethel_env_gnn_39/lib/python3.9/site-packages (from outdated>=0.2.0->ogb) (0.2.2)\n",
            "Requirement already satisfied: requests in /home/ubuntu/anaconda3/envs/bethel_env_gnn_39/lib/python3.9/site-packages (from outdated>=0.2.0->ogb) (2.28.1)\n",
            "Requirement already satisfied: python-dateutil>=2.8.1 in /home/ubuntu/anaconda3/envs/bethel_env_gnn_39/lib/python3.9/site-packages (from pandas>=0.24.0->ogb) (2.8.2)\n",
            "Requirement already satisfied: pytz>=2020.1 in /home/ubuntu/anaconda3/envs/bethel_env_gnn_39/lib/python3.9/site-packages (from pandas>=0.24.0->ogb) (2022.6)\n",
            "Requirement already satisfied: threadpoolctl>=2.0.0 in /home/ubuntu/anaconda3/envs/bethel_env_gnn_39/lib/python3.9/site-packages (from scikit-learn>=0.20.0->ogb) (3.1.0)\n",
            "Requirement already satisfied: joblib>=1.0.0 in /home/ubuntu/anaconda3/envs/bethel_env_gnn_39/lib/python3.9/site-packages (from scikit-learn>=0.20.0->ogb) (1.2.0)\n",
            "Requirement already satisfied: scipy>=1.3.2 in /home/ubuntu/anaconda3/envs/bethel_env_gnn_39/lib/python3.9/site-packages (from scikit-learn>=0.20.0->ogb) (1.9.3)\n",
            "Requirement already satisfied: typing_extensions in /home/ubuntu/anaconda3/envs/bethel_env_gnn_39/lib/python3.9/site-packages (from torch>=1.6.0->ogb) (4.3.0)\n",
            "Requirement already satisfied: certifi>=2017.4.17 in /home/ubuntu/anaconda3/envs/bethel_env_gnn_39/lib/python3.9/site-packages (from requests->outdated>=0.2.0->ogb) (2022.9.24)\n",
            "Requirement already satisfied: idna<4,>=2.5 in /home/ubuntu/anaconda3/envs/bethel_env_gnn_39/lib/python3.9/site-packages (from requests->outdated>=0.2.0->ogb) (3.4)\n",
            "Requirement already satisfied: charset-normalizer<3,>=2 in /home/ubuntu/anaconda3/envs/bethel_env_gnn_39/lib/python3.9/site-packages (from requests->outdated>=0.2.0->ogb) (2.0.4)\n"
          ]
        }
      ],
      "source": [
        "import os\n",
        "import torch\n",
        "os.environ['TORCH'] = torch.__version__\n",
        "print(torch.__version__)\n",
        "\n",
        "!pip install -q torch-scatter -f https://data.pyg.org/whl/torch-${TORCH}.html\n",
        "print(\"torch-scatter installed\")\n",
        "!pip install -q torch-sparse -f https://data.pyg.org/whl/torch-${TORCH}.html\n",
        "print(\"torch-sparse installed\")\n",
        "!pip install -q git+https://github.com/pyg-team/pytorch_geometric.git\n",
        "print(\"torch-geometric installed\")\n",
        "\n",
        "!pip install ogb"
      ]
    },
    {
      "cell_type": "markdown",
      "metadata": {
        "id": "o24yIyHJJoqU"
      },
      "source": [
        "## Load the OGB dataset\n",
        "See details: https://ogb.stanford.edu/docs/nodeprop/#ogbn-arxiv"
      ]
    },
    {
      "cell_type": "code",
      "execution_count": 9,
      "metadata": {
        "id": "1bo-LDv68x02"
      },
      "outputs": [],
      "source": [
        "import torch_geometric.transforms as T\n",
        "import torch.nn.functional as F\n",
        "from ogb.nodeproppred import PygNodePropPredDataset\n",
        "from ogb.nodeproppred import Evaluator\n",
        "\n",
        "import networkx as nx\n",
        "from torch_geometric.data import Data\n",
        "from torch_geometric.utils import to_networkx\n",
        "\n",
        "dataset_name = 'ogbn-arxiv'\n",
        "dataset = PygNodePropPredDataset(name=dataset_name)\n",
        "data = dataset[0]\n",
        "\n",
        "# convert into a networkx object\n",
        "g = to_networkx(data = data, to_undirected=True)\n"
      ]
    },
    {
      "cell_type": "markdown",
      "metadata": {
        "id": "5q5okmvZfEsH"
      },
      "source": [
        "## (3 points) Check the number of nodes, edges and density of the graph"
      ]
    },
    {
      "cell_type": "code",
      "execution_count": 2,
      "metadata": {
        "colab": {
          "base_uri": "https://localhost:8080/"
        },
        "id": "rjw_xiszeauN",
        "outputId": "9166f41c-5697-4737-8fc5-7a14ca9fdcbf"
      },
      "outputs": [
        {
          "name": "stdout",
          "output_type": "stream",
          "text": [
            "Number of nodes: 169343, number of edges: 570407, density: 3.97817e-05\n"
          ]
        }
      ],
      "source": [
        "## -- your code here -- ##\n",
        "## calculate the number of nodes, edges and density of the graph g\n",
        "## you can use networkX library\n",
        "\n",
        "num_nodes = g.number_of_nodes()\n",
        "num_edges = g.number_of_edges()\n",
        "density = 2*num_edges/(num_nodes*(num_nodes-1))\n",
        "\n",
        "print('Number of nodes: %d, number of edges: %d, density: %g'%(num_nodes, num_edges, density))"
      ]
    },
    {
      "cell_type": "markdown",
      "metadata": {
        "id": "tGbmeY-ZrOBN"
      },
      "source": [
        "##(5 points) Plot the degree distribution of the graph"
      ]
    },
    {
      "cell_type": "code",
      "execution_count": 3,
      "metadata": {
        "colab": {
          "base_uri": "https://localhost:8080/",
          "height": 518
        },
        "id": "hMUHa9FN80wF",
        "outputId": "e48d3654-cf4d-4c7e-890c-08e1f346e026"
      },
      "outputs": [
        {
          "data": {
            "text/plain": [
              "<Figure size 1200x800 with 0 Axes>"
            ]
          },
          "metadata": {},
          "output_type": "display_data"
        },
        {
          "data": {
            "image/png": "[encoded data removed]",
            "text/plain": [
              "<Figure size 1200x800 with 1 Axes>"
            ]
          },
          "metadata": {},
          "output_type": "display_data"
        }
      ],
      "source": [
        "import matplotlib.pyplot as plt\n",
        "def plot_degree_hist(G):\n",
        "  freq = nx.degree_histogram(G)\n",
        "\n",
        "  plt.figure(figsize=(12,8))\n",
        "  \n",
        "  ## -- your code here -- ##\n",
        "  ## It should be a log-log scale plot\n",
        "  ## (x-axis: node degree, y-axis: degree frequency)\n",
        "\n",
        "  degree = range(len(freq))\n",
        "  plt.figure(figsize=(12, 8)) \n",
        "  plt.loglog(degree, freq,'o') \n",
        "  \n",
        "  plt.xlabel('Degree')\n",
        "  plt.ylabel('Frequency')\n",
        "\n",
        "plot_degree_hist(g)"
      ]
    },
    {
      "cell_type": "markdown",
      "metadata": {
        "id": "sJsu1a-DXkci"
      },
      "source": [
        "## (5 points) Compute the network diameter"
      ]
    },
    {
      "cell_type": "code",
      "execution_count": 4,
      "metadata": {
        "colab": {
          "base_uri": "https://localhost:8080/"
        },
        "id": "VeeHzlLfXkro",
        "outputId": "a7410e2e-8637-4409-f70d-a9bbe7cf648c"
      },
      "outputs": [
        {
          "name": "stdout",
          "output_type": "stream",
          "text": [
            "30\n"
          ]
        }
      ],
      "source": [
        "def compute_diameter(G, approx=True):\n",
        "\n",
        "  ## -- your code here -- ##\n",
        "  ## If a graph is connected, you just use nx.diameter(.)\n",
        "  ## If a graph is disconnected, you first extract the largest connected component as subgraph and compute the diameter of it\n",
        "  ## \n",
        "  ## NetworkX functions will be useful such as nx.is_connected(.), nx.connected_components(.), nx.diameter(.)\n",
        "  ## See https://networkx.org/documentation/stable/reference/algorithms/index.html\n",
        "  ##\n",
        "  ## For a large graph, approximations can be helpful (nx.approximation.diameter(.))\n",
        "  ## See https://networkx.org/documentation/stable/reference/algorithms/approximation.html\n",
        "\n",
        "  if nx.is_connected(G):\n",
        "    if approx:\n",
        "      diameter = nx.approximation.diameter(G)\n",
        "\n",
        "    else:\n",
        "      diameter = nx.diameter(G)\n",
        "\n",
        "  else:\n",
        "    largest_cc = max(nx.connected_components(G), key=len)\n",
        "    c = G.subgraph(largest_cc).copy()\n",
        "    if approx:\n",
        "      diameter = nx.approximation.diameter(c)\n",
        "    \n",
        "    else:\n",
        "      diameter = nx.diameter(c)\n",
        "\n",
        "\n",
        "  return diameter\n",
        "\n",
        "print(compute_diameter(g))"
      ]
    },
    {
      "cell_type": "markdown",
      "metadata": {
        "id": "L9ldtn5JtBDd"
      },
      "source": [
        "##Prepare your dataset"
      ]
    },
    {
      "cell_type": "code",
      "execution_count": 10,
      "metadata": {
        "colab": {
          "base_uri": "https://localhost:8080/"
        },
        "id": "uP97fVyk85IB",
        "outputId": "f0ad7184-b3b2-406e-8785-da2f6681d5bc"
      },
      "outputs": [
        {
          "name": "stdout",
          "output_type": "stream",
          "text": [
            "cuda\n",
            "Data(num_nodes=169343, x=[169343, 128], node_year=[169343, 1], y=[169343, 1], adj_t=[169343, 169343, nnz=2315598])\n"
          ]
        }
      ],
      "source": [
        "# transform into a sparse tensor\n",
        "dataset = PygNodePropPredDataset(name=dataset_name,\n",
        "                                 transform=T.ToSparseTensor())\n",
        "\n",
        "data = dataset[0]\n",
        "data.adj_t = data.adj_t.to_symmetric()\n",
        "device = 'cuda' if torch.cuda.is_available() else 'cpu'\n",
        "print(device)\n",
        "data = data.to(device)\n",
        "split_idx = dataset.get_idx_split()\n",
        "train_idx = split_idx['train'].to(device)\n",
        "\n",
        "print(data)"
      ]
    },
    {
      "cell_type": "markdown",
      "metadata": {
        "id": "5rJeZSUZLuhx"
      },
      "source": [
        "## Model design\n",
        "To investigate GNN-based models can improve the prediction performance, we first implement a simple MLP(Multi-layer Perceptron) model as below.\n",
        "\n",
        "## (10 points) Complete the forward function"
      ]
    },
    {
      "cell_type": "code",
      "execution_count": 11,
      "metadata": {
        "id": "1Wyp3MFMLs2O"
      },
      "outputs": [],
      "source": [
        "class MLP(torch.nn.Module):\n",
        "    def __init__(self, c_in, c_hidden, c_out, num_layers, dp_rate):\n",
        "        \"\"\"\n",
        "        Inputs:\n",
        "            c_in - Dimension of input features\n",
        "            c_hidden - Dimension of hidden features\n",
        "            c_out - Dimension of the output features. Usually number of classes in classification\n",
        "            num_layers - Number of hidden layers\n",
        "            dp_rate - Dropout rate to apply throughout the network\n",
        "        \"\"\"\n",
        "        super(MLP, self).__init__()\n",
        "        layers = []\n",
        "        in_channels, out_channels = c_in, c_hidden\n",
        "        for l_idx in range(num_layers-1):\n",
        "            layers += [\n",
        "                torch.nn.Linear(in_channels, out_channels)\n",
        "            ]\n",
        "            in_channels = c_hidden\n",
        "        layers += [torch.nn.Linear(in_channels, c_out)]\n",
        "        self.layers = torch.nn.Sequential(*layers)\n",
        "        self.softmax = torch.nn.LogSoftmax(dim=1)\n",
        "        self.dropout = dp_rate\n",
        "\n",
        "    def forward(self, x):\n",
        "\n",
        "      ## --- your code here --- ##\n",
        "      ## For each layer (use self.layers), add ReLU activation (torch.nn.functional.relu) and \n",
        "      ##   dropout (torch.nn.functional.dropout) when it is in training mode (you can use self.training)\n",
        "      ## See https://pytorch.org/docs/stable/nn.functional.html\n",
        "      ## return output ('out') after the softmax layer (use self.softmax)\n",
        "\n",
        "      for layer in self.layers:\n",
        "        x = layer(x)\n",
        "        x = F.relu(x)\n",
        "        x = F.dropout(x, p=self.dropout, training=self.training)\n",
        "        #x = F.normalize(x, p=2., dim=-1)\n",
        "      out = self.softmax(x)\n",
        "\n",
        "      return out"
      ]
    },
    {
      "cell_type": "markdown",
      "metadata": {
        "id": "uMI28rzOOSiY"
      },
      "source": [
        "Now, train and test the model\n",
        "\n",
        "## (7 points) Complete the train / test function"
      ]
    },
    {
      "cell_type": "code",
      "execution_count": 13,
      "metadata": {
        "id": "OuYmE5QFOPe1"
      },
      "outputs": [],
      "source": [
        "def train(model, data, train_idx, optimizer, loss_fn):\n",
        "    model.train()\n",
        "    optimizer.zero_grad()\n",
        "\n",
        "    #out[idx_train], labels[idx_train]\n",
        "\n",
        "    ## fill in the parameters of each function\n",
        "    out = model(data.x)\n",
        "    #print(out)\n",
        "    #print(data.y[train_idx])\n",
        "    loss = loss_fn(out[train_idx], data.y.squeeze(1)[train_idx])\n",
        "    \n",
        "    loss.backward()\n",
        "    optimizer.step()\n",
        "\n",
        "    return loss.item()\n",
        "\n",
        "def test(model, data, split_idx, evaluator):\n",
        "    model.eval()\n",
        "\n",
        "    ## fill in the parameters \n",
        "    out = model(data.x)\n",
        "\n",
        "    y_pred = out.argmax(dim=-1, keepdim=True)\n",
        "\n",
        "    train_acc = evaluator.eval({\n",
        "        'y_true': data.y[split_idx['train']],\n",
        "        'y_pred': y_pred[split_idx['train']],\n",
        "    })['acc']\n",
        "    valid_acc = evaluator.eval({\n",
        "        'y_true': data.y[split_idx['valid']],\n",
        "        'y_pred': y_pred[split_idx['valid']],\n",
        "    })['acc']\n",
        "    test_acc = evaluator.eval({\n",
        "        'y_true': data.y[split_idx['test']],\n",
        "        'y_pred': y_pred[split_idx['test']],\n",
        "    })['acc']\n",
        "\n",
        "    return train_acc, valid_acc, test_acc"
      ]
    },
    {
      "cell_type": "code",
      "execution_count": 14,
      "metadata": {
        "colab": {
          "base_uri": "https://localhost:8080/"
        },
        "id": "ob_h7Q_q9VMl",
        "outputId": "280d147b-ee5c-4666-be1b-8483109fd260"
      },
      "outputs": [
        {
          "name": "stdout",
          "output_type": "stream",
          "text": [
            "Epoch: 01, Loss: 3.6891, Train: 11.03%, Valid: 22.98% Test: 21.56%\n",
            "Epoch: 04, Loss: 3.4599, Train: 25.96%, Valid: 29.03% Test: 25.88%\n",
            "Epoch: 15, Loss: 3.4810, Train: 24.55%, Valid: 29.43% Test: 26.62%\n",
            "Epoch: 16, Loss: 3.4634, Train: 27.94%, Valid: 30.87% Test: 27.79%\n",
            "Epoch: 17, Loss: 3.4381, Train: 28.48%, Valid: 31.19% Test: 28.70%\n",
            "Epoch: 28, Loss: 3.2818, Train: 30.72%, Valid: 31.77% Test: 29.19%\n",
            "Epoch: 29, Loss: 3.2811, Train: 31.67%, Valid: 33.04% Test: 30.69%\n",
            "Epoch: 30, Loss: 3.2632, Train: 32.52%, Valid: 34.11% Test: 32.00%\n",
            "Epoch: 31, Loss: 3.2575, Train: 33.20%, Valid: 34.78% Test: 32.83%\n",
            "Epoch: 32, Loss: 3.2440, Train: 33.88%, Valid: 35.86% Test: 33.92%\n",
            "Epoch: 33, Loss: 3.2368, Train: 34.61%, Valid: 37.19% Test: 35.17%\n",
            "Epoch: 34, Loss: 3.2230, Train: 35.85%, Valid: 38.89% Test: 37.13%\n",
            "Epoch: 35, Loss: 3.2223, Train: 36.99%, Valid: 40.44% Test: 39.06%\n",
            "Epoch: 36, Loss: 3.2137, Train: 37.73%, Valid: 41.47% Test: 40.19%\n",
            "Epoch: 37, Loss: 3.1956, Train: 38.06%, Valid: 41.83% Test: 40.60%\n",
            "Epoch: 38, Loss: 3.1944, Train: 38.29%, Valid: 41.97% Test: 40.65%\n",
            "Epoch: 39, Loss: 3.1887, Train: 38.71%, Valid: 42.31% Test: 41.00%\n",
            "Epoch: 40, Loss: 3.1831, Train: 39.50%, Valid: 42.80% Test: 41.36%\n",
            "Epoch: 41, Loss: 3.1817, Train: 40.03%, Valid: 43.21% Test: 42.28%\n",
            "Epoch: 42, Loss: 3.1725, Train: 40.21%, Valid: 43.46% Test: 42.83%\n",
            "Epoch: 43, Loss: 3.1656, Train: 40.46%, Valid: 43.74% Test: 43.28%\n",
            "Epoch: 44, Loss: 3.1682, Train: 41.06%, Valid: 44.27% Test: 43.38%\n",
            "Epoch: 45, Loss: 3.1613, Train: 41.64%, Valid: 44.55% Test: 43.20%\n",
            "Epoch: 46, Loss: 3.1541, Train: 42.03%, Valid: 44.96% Test: 43.60%\n",
            "Epoch: 47, Loss: 3.1490, Train: 42.27%, Valid: 45.32% Test: 44.12%\n",
            "Epoch: 48, Loss: 3.1413, Train: 42.57%, Valid: 45.51% Test: 44.49%\n",
            "Epoch: 49, Loss: 3.1460, Train: 42.82%, Valid: 45.76% Test: 44.55%\n",
            "Epoch: 50, Loss: 3.1353, Train: 43.04%, Valid: 45.91% Test: 44.57%\n",
            "Epoch: 51, Loss: 3.1368, Train: 43.40%, Valid: 46.29% Test: 45.09%\n",
            "Epoch: 52, Loss: 3.1294, Train: 43.66%, Valid: 46.77% Test: 45.84%\n",
            "Epoch: 53, Loss: 3.1336, Train: 43.88%, Valid: 46.89% Test: 46.21%\n",
            "Epoch: 54, Loss: 3.1194, Train: 44.08%, Valid: 46.98% Test: 46.07%\n",
            "Epoch: 56, Loss: 3.1174, Train: 44.44%, Valid: 47.08% Test: 45.95%\n",
            "Epoch: 57, Loss: 3.1110, Train: 44.58%, Valid: 47.12% Test: 46.08%\n",
            "Epoch: 58, Loss: 3.1177, Train: 44.60%, Valid: 47.35% Test: 46.24%\n",
            "Epoch: 59, Loss: 3.1116, Train: 44.71%, Valid: 47.61% Test: 46.67%\n",
            "Epoch: 60, Loss: 3.1071, Train: 44.96%, Valid: 47.84% Test: 46.75%\n",
            "Epoch: 63, Loss: 3.0980, Train: 45.27%, Valid: 48.09% Test: 46.80%\n",
            "Epoch: 64, Loss: 3.1033, Train: 45.36%, Valid: 48.14% Test: 47.08%\n",
            "Epoch: 66, Loss: 3.0907, Train: 45.72%, Valid: 48.16% Test: 46.91%\n",
            "Epoch: 67, Loss: 3.0898, Train: 45.67%, Valid: 48.30% Test: 47.03%\n",
            "Epoch: 68, Loss: 3.0908, Train: 45.78%, Valid: 48.38% Test: 47.02%\n",
            "Epoch: 71, Loss: 3.0845, Train: 46.05%, Valid: 48.58% Test: 47.25%\n",
            "Epoch: 73, Loss: 3.0827, Train: 46.43%, Valid: 48.59% Test: 47.23%\n",
            "Epoch: 74, Loss: 3.0834, Train: 46.47%, Valid: 48.67% Test: 47.29%\n",
            "Epoch: 77, Loss: 3.0736, Train: 46.58%, Valid: 48.71% Test: 47.37%\n",
            "Epoch: 78, Loss: 3.0807, Train: 46.83%, Valid: 48.94% Test: 47.36%\n",
            "Epoch: 80, Loss: 3.0692, Train: 46.78%, Valid: 48.97% Test: 47.84%\n",
            "Epoch: 81, Loss: 3.0647, Train: 46.66%, Valid: 49.08% Test: 47.88%\n",
            "Epoch: 85, Loss: 3.0717, Train: 47.04%, Valid: 49.17% Test: 48.07%\n",
            "Epoch: 86, Loss: 3.0683, Train: 47.20%, Valid: 49.30% Test: 48.27%\n",
            "Epoch: 90, Loss: 3.0618, Train: 47.38%, Valid: 49.32% Test: 47.86%\n",
            "Epoch: 96, Loss: 3.0604, Train: 47.57%, Valid: 49.47% Test: 48.14%\n",
            "Epoch: 99, Loss: 3.0616, Train: 47.76%, Valid: 49.72% Test: 48.24%\n",
            "Best model: Train: 47.76%, Valid: 49.72% Test: 48.24%\n"
          ]
        }
      ],
      "source": [
        "import copy\n",
        "\n",
        "loss_mlp = []\n",
        "train_acc_mlp = []\n",
        "val_acc_mlp = []\n",
        "test_acc_mlp = []\n",
        "\n",
        "args = {\n",
        "    'device': device,\n",
        "    'num_layers': 3,\n",
        "    'hidden_dim': 256,\n",
        "    'dropout': 0.5,\n",
        "    'lr': 0.01,\n",
        "    'epochs': 100,\n",
        "}\n",
        "\n",
        "model = MLP(data.num_features, args['hidden_dim'],\n",
        "            dataset.num_classes, args['num_layers'],\n",
        "            args['dropout']).to(device)\n",
        "\n",
        "optimizer = torch.optim.Adam(model.parameters(), lr=args['lr'])\n",
        "loss_fn = F.nll_loss\n",
        "evaluator = Evaluator(name='ogbn-arxiv')\n",
        "\n",
        "best_model = None\n",
        "best_valid_acc = 0\n",
        "\n",
        "for epoch in range(1, 1 + args[\"epochs\"]):\n",
        "  loss = train(model, data, train_idx, optimizer, loss_fn)\n",
        "  loss_mlp.append(loss)\n",
        "  result = test(model, data, split_idx, evaluator)\n",
        "  train_acc, valid_acc, test_acc = result\n",
        "\n",
        "  train_acc_mlp.append(train_acc)\n",
        "  val_acc_mlp.append(valid_acc)\n",
        "  test_acc_mlp.append(test_acc)\n",
        "\n",
        "\n",
        "  if valid_acc > best_valid_acc:\n",
        "    best_valid_acc = valid_acc\n",
        "    best_model = copy.deepcopy(model)\n",
        "    print(f'Epoch: {epoch:02d}, '\n",
        "          f'Loss: {loss:.4f}, '\n",
        "          f'Train: {100 * train_acc:.2f}%, '\n",
        "          f'Valid: {100 * valid_acc:.2f}% '\n",
        "          f'Test: {100 * test_acc:.2f}%')\n",
        "\n",
        "best_result = test(best_model, data, split_idx, evaluator)\n",
        "train_acc, valid_acc, test_acc = best_result\n",
        "\n",
        "print(f'Best model: '\n",
        "      f'Train: {100 * train_acc:.2f}%, '\n",
        "      f'Valid: {100 * valid_acc:.2f}% '\n",
        "      f'Test: {100 * test_acc:.2f}%')"
      ]
    },
    {
      "cell_type": "markdown",
      "metadata": {
        "id": "4an4Qxm2gzXd"
      },
      "source": [
        "\n",
        "\n",
        "##Q1. (30 points) Submit the completed notebook file (File > Download > Download .ipynb)\n",
        "\n"
      ]
    },
    {
      "cell_type": "markdown",
      "metadata": {
        "id": "0AXY9jYFKK6h"
      },
      "source": [
        "\n",
        "#Submit the document (.docx) that answer the following questions. <br> \n",
        "###**- For the following questions, you should include the modified or added part of your code in Q1.** <br><br>\n",
        "\n",
        "\n",
        "## GNN model\n",
        "Now, you will design GNN model and evaluate the prediction performance as above. <br>\n",
        "Write down your code below and train the model using the same parameters (args.num_layers, args_dropout, etc.). <br>\n",
        "You can use PyG library for GCN and GraphSAGE operater (https://pytorch-geometric.readthedocs.io/en/latest/modules/nn.html#convolutional-layers) as below. <br><br>\n",
        "\n",
        "\n"
      ]
    },
    {
      "cell_type": "code",
      "execution_count": 15,
      "metadata": {
        "id": "FWj9A0p1h13v"
      },
      "outputs": [
        {
          "ename": "ImportError",
          "evalue": "cannot import name 'dropout_edge' from 'torch_geometric.utils' (/home/ubuntu/anaconda3/envs/bethel_env_gnn_39/lib/python3.9/site-packages/torch_geometric/utils/__init__.py)",
          "output_type": "error",
          "traceback": [
            "\u001b[0;31m---------------------------------------------------------------------------\u001b[0m",
            "\u001b[0;31mImportError\u001b[0m                               Traceback (most recent call last)",
            "Cell \u001b[0;32mIn [15], line 1\u001b[0m\n\u001b[0;32m----> 1\u001b[0m \u001b[39mfrom\u001b[39;00m \u001b[39mtorch_geometric\u001b[39;00m\u001b[39m.\u001b[39;00m\u001b[39mnn\u001b[39;00m \u001b[39mimport\u001b[39;00m GCNConv, SAGEConv\n\u001b[1;32m      2\u001b[0m \u001b[39mfrom\u001b[39;00m \u001b[39mtorch\u001b[39;00m\u001b[39m.\u001b[39;00m\u001b[39mnn\u001b[39;00m \u001b[39mimport\u001b[39;00m Linear, Parameter\n\u001b[1;32m      3\u001b[0m \u001b[39mfrom\u001b[39;00m \u001b[39mtorch_geometric\u001b[39;00m\u001b[39m.\u001b[39;00m\u001b[39mnn\u001b[39;00m \u001b[39mimport\u001b[39;00m MessagePassing\n",
            "File \u001b[0;32m~/anaconda3/envs/bethel_env_gnn_39/lib/python3.9/site-packages/torch_geometric/nn/__init__.py:3\u001b[0m\n\u001b[1;32m      1\u001b[0m \u001b[39mfrom\u001b[39;00m \u001b[39m.\u001b[39;00m\u001b[39mmeta\u001b[39;00m \u001b[39mimport\u001b[39;00m MetaLayer\n\u001b[1;32m      2\u001b[0m \u001b[39mfrom\u001b[39;00m \u001b[39m.\u001b[39;00m\u001b[39mreshape\u001b[39;00m \u001b[39mimport\u001b[39;00m Reshape\n\u001b[0;32m----> 3\u001b[0m \u001b[39mfrom\u001b[39;00m \u001b[39m.\u001b[39;00m\u001b[39msequential\u001b[39;00m \u001b[39mimport\u001b[39;00m Sequential\n\u001b[1;32m      4\u001b[0m \u001b[39mfrom\u001b[39;00m \u001b[39m.\u001b[39;00m\u001b[39mdata_parallel\u001b[39;00m \u001b[39mimport\u001b[39;00m DataParallel\n\u001b[1;32m      5\u001b[0m \u001b[39mfrom\u001b[39;00m \u001b[39m.\u001b[39;00m\u001b[39mto_hetero_transformer\u001b[39;00m \u001b[39mimport\u001b[39;00m to_hetero\n",
            "File \u001b[0;32m~/anaconda3/envs/bethel_env_gnn_39/lib/python3.9/site-packages/torch_geometric/nn/sequential.py:8\u001b[0m\n\u001b[1;32m      4\u001b[0m \u001b[39mfrom\u001b[39;00m \u001b[39muuid\u001b[39;00m \u001b[39mimport\u001b[39;00m uuid1\n\u001b[1;32m      6\u001b[0m \u001b[39mimport\u001b[39;00m \u001b[39mtorch\u001b[39;00m\n\u001b[0;32m----> 8\u001b[0m \u001b[39mfrom\u001b[39;00m \u001b[39mtorch_geometric\u001b[39;00m\u001b[39m.\u001b[39;00m\u001b[39mnn\u001b[39;00m\u001b[39m.\u001b[39;00m\u001b[39mconv\u001b[39;00m\u001b[39m.\u001b[39;00m\u001b[39mutils\u001b[39;00m\u001b[39m.\u001b[39;00m\u001b[39mjit\u001b[39;00m \u001b[39mimport\u001b[39;00m class_from_module_repr\n\u001b[1;32m     11\u001b[0m \u001b[39mdef\u001b[39;00m \u001b[39mSequential\u001b[39m(\n\u001b[1;32m     12\u001b[0m     input_args: \u001b[39mstr\u001b[39m,\n\u001b[1;32m     13\u001b[0m     modules: List[Union[Tuple[Callable, \u001b[39mstr\u001b[39m], Callable]],\n\u001b[1;32m     14\u001b[0m ) \u001b[39m-\u001b[39m\u001b[39m>\u001b[39m torch\u001b[39m.\u001b[39mnn\u001b[39m.\u001b[39mModule:\n\u001b[1;32m     15\u001b[0m     \u001b[39mr\u001b[39m\u001b[39m\"\"\"An extension of the :class:`torch.nn.Sequential` container in order to\u001b[39;00m\n\u001b[1;32m     16\u001b[0m \u001b[39m    define a sequential GNN model.\u001b[39;00m\n\u001b[1;32m     17\u001b[0m \u001b[39m    Since GNN operators take in multiple input arguments,\u001b[39;00m\n\u001b[0;32m   (...)\u001b[0m\n\u001b[1;32m     66\u001b[0m \u001b[39m            be passed.\u001b[39;00m\n\u001b[1;32m     67\u001b[0m \u001b[39m    \"\"\"\u001b[39;00m\n",
            "File \u001b[0;32m~/anaconda3/envs/bethel_env_gnn_39/lib/python3.9/site-packages/torch_geometric/nn/conv/__init__.py:44\u001b[0m\n\u001b[1;32m     42\u001b[0m \u001b[39mfrom\u001b[39;00m \u001b[39m.\u001b[39;00m\u001b[39mwl_conv_continuous\u001b[39;00m \u001b[39mimport\u001b[39;00m WLConvContinuous\n\u001b[1;32m     43\u001b[0m \u001b[39mfrom\u001b[39;00m \u001b[39m.\u001b[39;00m\u001b[39mfilm_conv\u001b[39;00m \u001b[39mimport\u001b[39;00m FiLMConv\n\u001b[0;32m---> 44\u001b[0m \u001b[39mfrom\u001b[39;00m \u001b[39m.\u001b[39;00m\u001b[39msupergat_conv\u001b[39;00m \u001b[39mimport\u001b[39;00m SuperGATConv\n\u001b[1;32m     45\u001b[0m \u001b[39mfrom\u001b[39;00m \u001b[39m.\u001b[39;00m\u001b[39mfa_conv\u001b[39;00m \u001b[39mimport\u001b[39;00m FAConv\n\u001b[1;32m     46\u001b[0m \u001b[39mfrom\u001b[39;00m \u001b[39m.\u001b[39;00m\u001b[39meg_conv\u001b[39;00m \u001b[39mimport\u001b[39;00m EGConv\n",
            "File \u001b[0;32m~/anaconda3/envs/bethel_env_gnn_39/lib/python3.9/site-packages/torch_geometric/nn/conv/supergat_conv.py:13\u001b[0m\n\u001b[1;32m     11\u001b[0m \u001b[39mfrom\u001b[39;00m \u001b[39mtorch_geometric\u001b[39;00m\u001b[39m.\u001b[39;00m\u001b[39mnn\u001b[39;00m\u001b[39m.\u001b[39;00m\u001b[39mdense\u001b[39;00m\u001b[39m.\u001b[39;00m\u001b[39mlinear\u001b[39;00m \u001b[39mimport\u001b[39;00m Linear\n\u001b[1;32m     12\u001b[0m \u001b[39mfrom\u001b[39;00m \u001b[39mtorch_geometric\u001b[39;00m\u001b[39m.\u001b[39;00m\u001b[39mtyping\u001b[39;00m \u001b[39mimport\u001b[39;00m Adj, OptTensor\n\u001b[0;32m---> 13\u001b[0m \u001b[39mfrom\u001b[39;00m \u001b[39mtorch_geometric\u001b[39;00m\u001b[39m.\u001b[39;00m\u001b[39mutils\u001b[39;00m \u001b[39mimport\u001b[39;00m (\n\u001b[1;32m     14\u001b[0m     add_self_loops,\n\u001b[1;32m     15\u001b[0m     batched_negative_sampling,\n\u001b[1;32m     16\u001b[0m     dropout_edge,\n\u001b[1;32m     17\u001b[0m     is_undirected,\n\u001b[1;32m     18\u001b[0m     negative_sampling,\n\u001b[1;32m     19\u001b[0m     remove_self_loops,\n\u001b[1;32m     20\u001b[0m     softmax,\n\u001b[1;32m     21\u001b[0m     to_undirected,\n\u001b[1;32m     22\u001b[0m )\n\u001b[1;32m     24\u001b[0m \u001b[39mfrom\u001b[39;00m \u001b[39m.\u001b[39;00m\u001b[39m.\u001b[39;00m\u001b[39minits\u001b[39;00m \u001b[39mimport\u001b[39;00m glorot, zeros\n\u001b[1;32m     27\u001b[0m \u001b[39mclass\u001b[39;00m \u001b[39mSuperGATConv\u001b[39;00m(MessagePassing):\n",
            "\u001b[0;31mImportError\u001b[0m: cannot import name 'dropout_edge' from 'torch_geometric.utils' (/home/ubuntu/anaconda3/envs/bethel_env_gnn_39/lib/python3.9/site-packages/torch_geometric/utils/__init__.py)"
          ]
        }
      ],
      "source": [
        "from torch_geometric.nn import GCNConv, SAGEConv\n",
        "from torch.nn import Linear, Parameter\n",
        "from torch_geometric.nn import MessagePassing\n",
        "from torch_geometric.utils import add_self_loops, degree\n",
        "import torch.nn as nn\n",
        "\n",
        "class GNN(MessagePassing):\n",
        "    def __init__(self, c_in, c_hidden, c_out, num_layers, dp_rate):\n",
        "        \n",
        "        super(GNN, self).__init__(aggr='mean')\n",
        "        \n",
        "        # --- Your code here --- #\n",
        "        layers = []\n",
        "        in_channels, out_channels = c_in, c_hidden\n",
        "        for l_idx in range(num_layers-1):\n",
        "            layers += [\n",
        "                nn.Linear(in_channels, out_channels)\n",
        "            ]\n",
        "            in_channels = c_hidden\n",
        "        layers += [torch.nn.Linear(in_channels, c_out)]\n",
        "        self.layers = torch.nn.Sequential(*layers)\n",
        "        self.softmax = torch.nn.LogSoftmax(dim=1)\n",
        "        self.dropout = dp_rate\n",
        "        self.n_layers = len(layers)\n",
        "\n",
        "    def forward(self, x, adj_t):\n",
        "      # --- Your code here --- #\n",
        "      x = self.propagate(adj_t, x=x, size=None)\n",
        "      x = self.layers[0](x)\n",
        "      x = F.relu(x)\n",
        "      x = F.dropout(x, p=self.dropout, training=self.training)\n",
        "\n",
        "      for i in range(self.n_layers-1):\n",
        "        x = self.propagate(adj_t, x=x, size=None)\n",
        "        x = self.layers[i+1](x)\n",
        "\n",
        "      # for layer in self.layers:\n",
        "      #   x = self.propagate(adj_t, x=x)\n",
        "      #   x = layer(x)\n",
        "      #   x = F.relu(x)\n",
        "      #   x = F.dropout(x, p=self.dropout, training=self.training)\n",
        "      #   #x = self.propagate(adj_t, x=x)\n",
        "      #   x = F.normalize(x)\n",
        "\n",
        "        \n",
        "      out = self.softmax(x)\n",
        "      return out"
      ]
    },
    {
      "cell_type": "code",
      "execution_count": 79,
      "metadata": {
        "id": "zx9gcXLFO07l"
      },
      "outputs": [],
      "source": [
        "def train_GNN(model, data, train_idx, optimizer, loss_fn):\n",
        "    model.train()\n",
        "    optimizer.zero_grad()\n",
        "\n",
        "    ## fill in the parameters of each function\n",
        "\n",
        "    out = model(data.x, data.adj_t)\n",
        "    loss = loss_fn(out[train_idx], data.y.squeeze(1)[train_idx])\n",
        "    \n",
        "    loss.backward()\n",
        "    optimizer.step()\n",
        "\n",
        "    return loss.item()\n",
        "\n",
        "def test_GNN(model, data, split_idx, evaluator):\n",
        "    model.eval()\n",
        "\n",
        "    ## fill in the parameters \n",
        "    out = model(data.x, data.adj_t)\n",
        "\n",
        "    y_pred = out.argmax(dim=-1, keepdim=True)\n",
        "\n",
        "    train_acc = evaluator.eval({\n",
        "        'y_true': data.y[split_idx['train']],\n",
        "        'y_pred': y_pred[split_idx['train']],\n",
        "    })['acc']\n",
        "    valid_acc = evaluator.eval({\n",
        "        'y_true': data.y[split_idx['valid']],\n",
        "        'y_pred': y_pred[split_idx['valid']],\n",
        "    })['acc']\n",
        "    test_acc = evaluator.eval({\n",
        "        'y_true': data.y[split_idx['test']],\n",
        "        'y_pred': y_pred[split_idx['test']],\n",
        "    })['acc']\n",
        "\n",
        "    return train_acc, valid_acc, test_acc"
      ]
    },
    {
      "cell_type": "code",
      "execution_count": 92,
      "metadata": {
        "colab": {
          "base_uri": "https://localhost:8080/"
        },
        "id": "gN8uIxh9KFmf",
        "outputId": "39999585-02f2-4ed6-ae60-570ae5489fe8"
      },
      "outputs": [
        {
          "name": "stdout",
          "output_type": "stream",
          "text": [
            "Epoch: 01, Loss: 3.6815, Train: 17.91%, Valid: 7.63% Test: 5.86%\n",
            "Epoch: 02, Loss: 3.3488, Train: 10.99%, Valid: 22.97% Test: 21.56%\n",
            "Epoch: 04, Loss: 3.3362, Train: 11.02%, Valid: 22.99% Test: 21.56%\n",
            "Epoch: 05, Loss: 3.2159, Train: 11.26%, Valid: 23.11% Test: 21.61%\n",
            "Epoch: 06, Loss: 3.1230, Train: 28.17%, Valid: 30.22% Test: 27.11%\n",
            "Epoch: 08, Loss: 2.9239, Train: 28.21%, Valid: 30.24% Test: 27.07%\n",
            "Epoch: 10, Loss: 2.7984, Train: 29.53%, Valid: 31.61% Test: 29.24%\n",
            "Epoch: 11, Loss: 2.6136, Train: 30.91%, Valid: 32.04% Test: 29.61%\n",
            "Epoch: 12, Loss: 2.5631, Train: 31.30%, Valid: 32.93% Test: 30.61%\n",
            "Epoch: 13, Loss: 2.4821, Train: 32.99%, Valid: 33.59% Test: 31.03%\n",
            "Epoch: 14, Loss: 2.3466, Train: 37.37%, Valid: 36.18% Test: 32.51%\n",
            "Epoch: 15, Loss: 2.3171, Train: 39.01%, Valid: 37.82% Test: 34.68%\n",
            "Epoch: 16, Loss: 2.2079, Train: 41.33%, Valid: 45.84% Test: 44.45%\n",
            "Epoch: 17, Loss: 2.1672, Train: 43.58%, Valid: 47.58% Test: 46.55%\n",
            "Epoch: 20, Loss: 1.9693, Train: 47.10%, Valid: 48.41% Test: 46.96%\n",
            "Epoch: 22, Loss: 1.8938, Train: 49.63%, Valid: 48.77% Test: 46.66%\n",
            "Epoch: 23, Loss: 1.8667, Train: 51.71%, Valid: 53.07% Test: 51.49%\n",
            "Epoch: 24, Loss: 1.8241, Train: 51.46%, Valid: 54.80% Test: 54.68%\n",
            "Epoch: 29, Loss: 1.7211, Train: 55.12%, Valid: 56.37% Test: 55.34%\n",
            "Epoch: 31, Loss: 1.6651, Train: 55.43%, Valid: 57.02% Test: 56.39%\n",
            "Epoch: 32, Loss: 1.6367, Train: 55.94%, Valid: 57.77% Test: 57.66%\n",
            "Epoch: 33, Loss: 1.6256, Train: 56.45%, Valid: 57.98% Test: 57.35%\n",
            "Epoch: 35, Loss: 1.5908, Train: 57.14%, Valid: 58.57% Test: 57.90%\n",
            "Epoch: 36, Loss: 1.5780, Train: 57.65%, Valid: 58.84% Test: 57.83%\n",
            "Epoch: 37, Loss: 1.5622, Train: 57.38%, Valid: 58.94% Test: 58.27%\n",
            "Epoch: 38, Loss: 1.5553, Train: 57.98%, Valid: 59.68% Test: 58.96%\n",
            "Epoch: 40, Loss: 1.5269, Train: 58.28%, Valid: 59.90% Test: 59.70%\n",
            "Epoch: 41, Loss: 1.5165, Train: 58.58%, Valid: 59.90% Test: 59.12%\n",
            "Epoch: 42, Loss: 1.5096, Train: 58.87%, Valid: 60.39% Test: 59.86%\n",
            "Epoch: 44, Loss: 1.4891, Train: 59.23%, Valid: 60.58% Test: 59.32%\n",
            "Epoch: 45, Loss: 1.4730, Train: 59.34%, Valid: 60.88% Test: 60.41%\n",
            "Epoch: 47, Loss: 1.4579, Train: 59.60%, Valid: 61.19% Test: 60.73%\n",
            "Epoch: 48, Loss: 1.4517, Train: 59.90%, Valid: 61.49% Test: 60.70%\n",
            "Epoch: 49, Loss: 1.4449, Train: 60.14%, Valid: 61.71% Test: 61.19%\n",
            "Epoch: 50, Loss: 1.4313, Train: 60.52%, Valid: 61.72% Test: 61.11%\n",
            "Epoch: 51, Loss: 1.4250, Train: 60.57%, Valid: 61.76% Test: 60.79%\n",
            "Epoch: 52, Loss: 1.4229, Train: 60.74%, Valid: 62.15% Test: 61.79%\n",
            "Epoch: 54, Loss: 1.4118, Train: 60.96%, Valid: 62.27% Test: 61.82%\n",
            "Epoch: 57, Loss: 1.3867, Train: 61.59%, Valid: 62.61% Test: 61.96%\n",
            "Epoch: 58, Loss: 1.3825, Train: 61.82%, Valid: 62.67% Test: 61.63%\n",
            "Epoch: 59, Loss: 1.3759, Train: 61.79%, Valid: 62.81% Test: 62.40%\n",
            "Epoch: 60, Loss: 1.3710, Train: 62.04%, Valid: 63.06% Test: 62.42%\n",
            "Epoch: 61, Loss: 1.3629, Train: 62.17%, Valid: 63.18% Test: 62.47%\n",
            "Epoch: 62, Loss: 1.3577, Train: 62.27%, Valid: 63.23% Test: 62.53%\n",
            "Epoch: 63, Loss: 1.3549, Train: 62.44%, Valid: 63.35% Test: 62.28%\n",
            "Epoch: 64, Loss: 1.3502, Train: 62.46%, Valid: 63.54% Test: 62.88%\n",
            "Epoch: 66, Loss: 1.3404, Train: 62.71%, Valid: 63.86% Test: 63.21%\n",
            "Epoch: 67, Loss: 1.3370, Train: 62.87%, Valid: 63.90% Test: 63.06%\n",
            "Epoch: 68, Loss: 1.3296, Train: 63.06%, Valid: 64.03% Test: 63.35%\n",
            "Epoch: 69, Loss: 1.3271, Train: 63.11%, Valid: 64.28% Test: 63.77%\n",
            "Epoch: 71, Loss: 1.3191, Train: 63.32%, Valid: 64.50% Test: 64.00%\n",
            "Epoch: 74, Loss: 1.3053, Train: 63.53%, Valid: 64.68% Test: 64.16%\n",
            "Epoch: 80, Loss: 1.2966, Train: 63.81%, Valid: 64.80% Test: 64.53%\n",
            "Epoch: 82, Loss: 1.2812, Train: 64.40%, Valid: 64.86% Test: 63.84%\n",
            "Epoch: 85, Loss: 1.2800, Train: 64.53%, Valid: 65.01% Test: 64.32%\n",
            "Epoch: 86, Loss: 1.2687, Train: 64.44%, Valid: 65.04% Test: 64.42%\n",
            "Epoch: 88, Loss: 1.2717, Train: 64.48%, Valid: 65.14% Test: 64.77%\n",
            "Epoch: 91, Loss: 1.2632, Train: 64.63%, Valid: 65.30% Test: 65.30%\n",
            "Epoch: 94, Loss: 1.2511, Train: 64.87%, Valid: 65.34% Test: 65.07%\n",
            "Epoch: 96, Loss: 1.2514, Train: 65.31%, Valid: 65.50% Test: 64.71%\n",
            "Epoch: 97, Loss: 1.2462, Train: 65.04%, Valid: 65.58% Test: 65.28%\n",
            "Epoch: 98, Loss: 1.2477, Train: 65.43%, Valid: 65.64% Test: 64.92%\n",
            "Epoch: 100, Loss: 1.2424, Train: 65.25%, Valid: 65.93% Test: 65.70%\n",
            "Best model: Train: 65.25%, Valid: 65.93% Test: 65.70% Exec. Time: 68.22716 sec\n"
          ]
        }
      ],
      "source": [
        "loss_gnn = []\n",
        "train_acc_gnn = []\n",
        "val_acc_gnn = []\n",
        "test_acc_gnn = []\n",
        "\n",
        "args_GNN = {\n",
        "    'device': device,\n",
        "    'num_layers': 3,\n",
        "    'hidden_dim': 235,\n",
        "    'dropout': 0.2711,\n",
        "    'lr': 0.017914,\n",
        "    'epochs': 100,\n",
        "}\n",
        "\n",
        "model_GNN = GNN(data.num_features, args_GNN['hidden_dim'],\n",
        "            dataset.num_classes, args_GNN['num_layers'],\n",
        "            args_GNN['dropout']).to(device)\n",
        "\n",
        "optimizer_GNN = torch.optim.Adam(model_GNN.parameters(), lr=args_GNN['lr'])\n",
        "loss_fn = F.nll_loss\n",
        "evaluator = Evaluator(name='ogbn-arxiv')\n",
        "\n",
        "best_model = None\n",
        "best_valid_acc = 0\n",
        "\n",
        "#to measure the execution time\n",
        "start_time = time.time()\n",
        "\n",
        "for epoch in range(1, 1 + args_GNN[\"epochs\"]):\n",
        "  loss = train_GNN(model_GNN, data, split_idx['train'], optimizer_GNN, loss_fn)\n",
        "  loss_gnn.append(loss)\n",
        "\n",
        "  result = test_GNN(model_GNN, data, split_idx, evaluator)\n",
        "  train_acc, valid_acc, test_acc = result\n",
        "  \n",
        "  train_acc_gnn.append(train_acc)\n",
        "  val_acc_gnn.append(valid_acc)\n",
        "  test_acc_gnn.append(test_acc)\n",
        "\n",
        "  if valid_acc > best_valid_acc:\n",
        "    best_valid_acc = valid_acc\n",
        "    best_model = copy.deepcopy(model_GNN)\n",
        "    print(f'Epoch: {epoch:02d}, '\n",
        "          f'Loss: {loss:.4f}, '\n",
        "          f'Train: {100 * train_acc:.2f}%, '\n",
        "          f'Valid: {100 * valid_acc:.2f}% '\n",
        "          f'Test: {100 * test_acc:.2f}%')\n",
        "\n",
        "best_result = test_GNN(best_model, data, split_idx, evaluator)\n",
        "train_acc, valid_acc, test_acc = best_result\n",
        "print(f'Best model: '\n",
        "      f'Train: {100 * train_acc:.2f}%, '\n",
        "      f'Valid: {100 * valid_acc:.2f}% '\n",
        "      f'Test: {100 * test_acc:.2f}%',\n",
        "      f'Exec. Time: {(time.time() - start_time) :.5f} sec')"
      ]
    },
    {
      "cell_type": "markdown",
      "metadata": {
        "id": "96XKr3sepvNl"
      },
      "source": [
        "## Loss curve comparison - GNN and MLP"
      ]
    },
    {
      "cell_type": "code",
      "execution_count": 105,
      "metadata": {
        "colab": {
          "base_uri": "https://localhost:8080/",
          "height": 514
        },
        "id": "kVgsritOcUn5",
        "outputId": "9ac4e779-f4d2-4d13-fbc7-16d38321b235"
      },
      "outputs": [
        {
          "data": {
            "image/png": "[encoded data removed]",
            "text/plain": [
              "<Figure size 864x576 with 1 Axes>"
            ]
          },
          "metadata": {
            "needs_background": "light"
          },
          "output_type": "display_data"
        }
      ],
      "source": [
        "plt.figure(figsize=(12, 8))  \n",
        "plt.xlabel('Number_of_epochs')\n",
        "plt.ylabel('Epoch_loss')\n",
        "plt.title('Loss curve MLP and GNN')\n",
        "\n",
        "plt.plot(loss_gnn, color = 'g', label = 'GNN Loss')\n",
        "plt.plot(loss_mlp, color = 'r', label = 'MLP Loss')\n",
        "plt.legend()\n",
        "plt.savefig('Desktop\\\\ATIML_Loss-curve.jpg', bbox_inches = 'tight', dpi  = 600)"
      ]
    },
    {
      "cell_type": "markdown",
      "metadata": {
        "id": "oWJWiB4Tp5Y8"
      },
      "source": [
        "## Accuracy curve of both models"
      ]
    },
    {
      "cell_type": "code",
      "execution_count": 106,
      "metadata": {
        "colab": {
          "base_uri": "https://localhost:8080/",
          "height": 540
        },
        "id": "QZvxdsnRdx0v",
        "outputId": "2765e250-2cc2-4fed-b9bc-d99401c18400"
      },
      "outputs": [
        {
          "data": {
            "image/png": "[encoded data removed]",
            "text/plain": [
              "<Figure size 864x576 with 2 Axes>"
            ]
          },
          "metadata": {
            "needs_background": "light"
          },
          "output_type": "display_data"
        }
      ],
      "source": [
        "plt.figure(figsize=(12, 8)) \n",
        "plt.xlabel('Number_of_epochs')\n",
        "plt.ylabel('accuracy')\n",
        "\n",
        "plt.subplot(1,2,1)\n",
        "plt.suptitle('Accuracy MLP and GNN')\n",
        "plt.plot(train_acc_mlp, color = 'r', label = 'Train accuracy')\n",
        "plt.plot(val_acc_mlp, color = 'g', label = 'Validation accuracy')\n",
        "plt.plot(test_acc_mlp, color = 'b', label = 'Test accuracy')\n",
        "plt.legend()\n",
        "\n",
        "plt.subplot(1,2,2)\n",
        "plt.plot(train_acc_gnn, color = 'r', label = 'Train accuracy')\n",
        "plt.plot(val_acc_gnn, color = 'g', label = 'Validation accuracy')\n",
        "plt.plot(test_acc_gnn, color = 'b', label = 'Test accuracy')\n",
        "plt.legend()\n",
        "plt.savefig('Desktop\\\\ATIML_accuracy.jpg', bbox_inches = 'tight', dpi  = 600)\n"
      ]
    },
    {
      "cell_type": "markdown",
      "metadata": {
        "id": "NB9_U7JfiYVi"
      },
      "source": [
        "## Performance after hyperparametre-tuning"
      ]
    },
    {
      "cell_type": "code",
      "execution_count": 95,
      "metadata": {
        "colab": {
          "base_uri": "https://localhost:8080/"
        },
        "id": "K4nY6sc6imPo",
        "outputId": "7effa053-0589-48c0-dbbd-470bfdbe434c"
      },
      "outputs": [
        {
          "name": "stdout",
          "output_type": "stream",
          "text": [
            "Epoch: 01, Loss: 3.6747, Train: 17.91%, Valid: 7.63% Test: 5.86%\n",
            "Epoch: 03, Loss: 85.0556, Train: 10.99%, Valid: 22.97% Test: 21.56%\n",
            "Best model: Train: 10.99%, Valid: 22.97% Test: 21.56%\n"
          ]
        }
      ],
      "source": [
        "loss_gnn2 = []\n",
        "train_acc_gnn2 = []\n",
        "val_acc_gnn2 = []\n",
        "test_acc_gnn2 = []\n",
        "\n",
        "args_GNN = {\n",
        "    'device': device,\n",
        "    'num_layers': 10,\n",
        "    'hidden_dim': 256,\n",
        "    'dropout': 0.5,\n",
        "    'lr': 0.01,\n",
        "    'epochs': 100,\n",
        "}\n",
        "\n",
        "model_GNN = GNN(data.num_features, args_GNN['hidden_dim'],\n",
        "            dataset.num_classes, args_GNN['num_layers'],\n",
        "            args_GNN['dropout']).to(device)\n",
        "\n",
        "optimizer_GNN = torch.optim.Adam(model_GNN.parameters(), lr=args_GNN['lr'])\n",
        "loss_fn = F.nll_loss\n",
        "evaluator = Evaluator(name='ogbn-arxiv')\n",
        "\n",
        "best_model = None\n",
        "best_valid_acc = 0\n",
        "\n",
        "for epoch in range(1, 1 + args_GNN[\"epochs\"]):\n",
        "  loss = train_GNN(model_GNN, data, split_idx['train'], optimizer_GNN, loss_fn)\n",
        "  loss_gnn2.append(loss)\n",
        "\n",
        "  result = test_GNN(model_GNN, data, split_idx, evaluator)\n",
        "  train_acc, valid_acc, test_acc = result\n",
        "  \n",
        "  train_acc_gnn2.append(train_acc)\n",
        "  val_acc_gnn2.append(valid_acc)\n",
        "  test_acc_gnn2.append(test_acc)\n",
        "\n",
        "  if valid_acc > best_valid_acc:\n",
        "    best_valid_acc = valid_acc\n",
        "    best_model = copy.deepcopy(model_GNN)\n",
        "    print(f'Epoch: {epoch:02d}, '\n",
        "          f'Loss: {loss:.4f}, '\n",
        "          f'Train: {100 * train_acc:.2f}%, '\n",
        "          f'Valid: {100 * valid_acc:.2f}% '\n",
        "          f'Test: {100 * test_acc:.2f}%')\n",
        "\n",
        "best_result = test_GNN(best_model, data, split_idx, evaluator)\n",
        "train_acc, valid_acc, test_acc = best_result\n",
        "print(f'Best model: '\n",
        "      f'Train: {100 * train_acc:.2f}%, '\n",
        "      f'Valid: {100 * valid_acc:.2f}% '\n",
        "      f'Test: {100 * test_acc:.2f}%')"
      ]
    },
    {
      "cell_type": "markdown",
      "metadata": {
        "id": "1CLRjzwvrSzM"
      },
      "source": [
        "## GraphSage implementation (Note: the source code for the GraphSage class is mostly taken from  https://pytorch-geometric.readthedocs.io/en/latest/_modules/torch_geometric/nn/conv/sage_conv.html#SAGEConv, and modified)"
      ]
    },
    {
      "cell_type": "code",
      "execution_count": 98,
      "metadata": {
        "id": "bDq6qbiejftt"
      },
      "outputs": [],
      "source": [
        "from typing import List, Optional, Tuple, Union\n",
        "\n",
        "import torch.nn.functional as F\n",
        "from torch import Tensor\n",
        "from torch.nn import LSTM\n",
        "from torch_sparse import SparseTensor, matmul\n",
        "\n",
        "from torch_geometric.nn.aggr import Aggregation, MultiAggregation\n",
        "from torch_geometric.nn.conv import MessagePassing\n",
        "from torch_geometric.nn.dense.linear import Linear\n",
        "from torch_geometric.typing import Adj, OptPairTensor, Size\n",
        "\n",
        "\n",
        "class SAGEConv3(MessagePassing):\n",
        "    def __init__(\n",
        "        self,\n",
        "        in_channels: Union[int, Tuple[int, int]],\n",
        "        out_channels: int,\n",
        "        aggr: Optional[Union[str, List[str], Aggregation]] = \"mean\",\n",
        "        normalize: bool = False,\n",
        "        root_weight: bool = True,\n",
        "        project: bool = False,\n",
        "        bias: bool = True,\n",
        "        **kwargs,\n",
        "    ):\n",
        "        self.in_channels = in_channels\n",
        "        self.out_channels = out_channels\n",
        "        self.normalize = normalize\n",
        "        self.root_weight = root_weight\n",
        "        self.project = project\n",
        "\n",
        "        if isinstance(in_channels, int):\n",
        "            in_channels = (in_channels, in_channels)\n",
        "\n",
        "        if aggr == 'lstm':\n",
        "            kwargs.setdefault('aggr_kwargs', {})\n",
        "            kwargs['aggr_kwargs'].setdefault('in_channels', in_channels[0])\n",
        "            kwargs['aggr_kwargs'].setdefault('out_channels', in_channels[0])\n",
        "\n",
        "        super().__init__(aggr, **kwargs)\n",
        "\n",
        "        if self.project:\n",
        "            self.lin = Linear(in_channels[0], in_channels[0], bias=True)\n",
        "\n",
        "        if self.aggr is None:\n",
        "            self.fuse = False \n",
        "            self.lstm = LSTM(in_channels[0], in_channels[0], batch_first=True)\n",
        "\n",
        "        if isinstance(self.aggr_module, MultiAggregation):\n",
        "            aggr_out_channels = self.aggr_module.get_out_channels(\n",
        "                in_channels[0])\n",
        "        else:\n",
        "            aggr_out_channels = in_channels[0]\n",
        "\n",
        "        self.lin_l = Linear(aggr_out_channels, out_channels, bias=bias)\n",
        "        if self.root_weight:\n",
        "            self.lin_r = Linear(in_channels[1], out_channels, bias=False)\n",
        "\n",
        "        self.reset_parameters()\n",
        "\n",
        "        self.softmax = torch.nn.LogSoftmax(dim=1)\n",
        "\n",
        "    def reset_parameters(self):\n",
        "        if self.project:\n",
        "            self.lin.reset_parameters()\n",
        "        self.aggr_module.reset_parameters()\n",
        "        self.lin_l.reset_parameters()\n",
        "        if self.root_weight:\n",
        "            self.lin_r.reset_parameters()\n",
        "\n",
        "\n",
        "    def forward(self, x: Union[Tensor, OptPairTensor], edge_index: Adj,\n",
        "                size: Size = None) -> Tensor:\n",
        "        \"\"\"\"\"\"\n",
        "        if isinstance(x, Tensor):\n",
        "            x: OptPairTensor = (x, x)\n",
        "\n",
        "        if self.project and hasattr(self, 'lin'):\n",
        "            x = (self.lin(x[0]).relu(), x[1])\n",
        "\n",
        "        out = self.propagate(edge_index, x=x, size=size)\n",
        "        out = self.lin_l(out)\n",
        "\n",
        "        x_r = x[1]\n",
        "        if self.root_weight and x_r is not None:\n",
        "            out = out + self.lin_r(x_r)\n",
        "\n",
        "        if self.normalize:\n",
        "            out = F.normalize(out, p=2., dim=-1)\n",
        "\n",
        "        return self.softmax(out)\n",
        "\n",
        "    def message(self, x_j: Tensor) -> Tensor:\n",
        "        return x_j\n",
        "\n",
        "    def message_and_aggregate(self, adj_t: SparseTensor,\n",
        "                              x: OptPairTensor) -> Tensor:\n",
        "        adj_t = adj_t.set_value(None, layout=None)\n",
        "        return matmul(adj_t, x[0], reduce=self.aggr)\n",
        "\n",
        "    def __repr__(self) -> str:\n",
        "        return (f'{self.__class__.__name__}({self.in_channels}, '\n",
        "                f'{self.out_channels}, aggr={self.aggr})')\n"
      ]
    },
    {
      "cell_type": "code",
      "execution_count": 99,
      "metadata": {
        "id": "Tqo1_-mVOmKC"
      },
      "outputs": [],
      "source": [
        "def train_GSage(model, data, train_idx, optimizer, loss_fn):\n",
        "    model.train()\n",
        "    optimizer.zero_grad()\n",
        "\n",
        "    ## fill in the parameters of each function\n",
        "\n",
        "    out = model(data.x, data.adj_t)\n",
        "    loss = loss_fn(out[train_idx], data.y.squeeze(1)[train_idx])\n",
        "    \n",
        "    loss.backward()\n",
        "    optimizer.step()\n",
        "\n",
        "    return loss.item()\n",
        "\n",
        "def test_GSage(model, data, split_idx, evaluator):\n",
        "    model.eval()\n",
        "\n",
        "    ## fill in the parameters \n",
        "    out = model(data.x, data.adj_t)\n",
        "\n",
        "    y_pred = out.argmax(dim=-1, keepdim=True)\n",
        "\n",
        "    train_acc = evaluator.eval({\n",
        "        'y_true': data.y[split_idx['train']],\n",
        "        'y_pred': y_pred[split_idx['train']],\n",
        "    })['acc']\n",
        "    valid_acc = evaluator.eval({\n",
        "        'y_true': data.y[split_idx['valid']],\n",
        "        'y_pred': y_pred[split_idx['valid']],\n",
        "    })['acc']\n",
        "    test_acc = evaluator.eval({\n",
        "        'y_true': data.y[split_idx['test']],\n",
        "        'y_pred': y_pred[split_idx['test']],\n",
        "    })['acc']\n",
        "\n",
        "    return train_acc, valid_acc, test_acc"
      ]
    },
    {
      "cell_type": "markdown",
      "metadata": {
        "id": "T8g3EZRbsmmN"
      },
      "source": [
        "## Performance using the \"mean\" *aggregator*"
      ]
    },
    {
      "cell_type": "code",
      "execution_count": 100,
      "metadata": {
        "colab": {
          "base_uri": "https://localhost:8080/"
        },
        "id": "9pv7jaYXBGiJ",
        "outputId": "27a4b2bd-cf40-47a8-8758-1ba4531b3013"
      },
      "outputs": [
        {
          "name": "stdout",
          "output_type": "stream",
          "text": [
            "Epoch: 01, Loss: 3.7113, Train: 13.52%, Valid: 6.71% Test: 5.49%\n",
            "Epoch: 02, Loss: 3.4042, Train: 17.20%, Valid: 8.09% Test: 6.77%\n",
            "Epoch: 03, Loss: 3.1932, Train: 17.84%, Valid: 8.14% Test: 6.76%\n",
            "Epoch: 06, Loss: 2.9123, Train: 18.28%, Valid: 8.17% Test: 6.32%\n",
            "Epoch: 07, Loss: 2.8704, Train: 19.13%, Valid: 9.84% Test: 7.70%\n",
            "Epoch: 08, Loss: 2.8363, Train: 20.62%, Valid: 13.27% Test: 10.73%\n",
            "Epoch: 09, Loss: 2.8015, Train: 22.35%, Valid: 17.44% Test: 14.57%\n",
            "Epoch: 10, Loss: 2.7615, Train: 23.96%, Valid: 21.09% Test: 17.95%\n",
            "Epoch: 11, Loss: 2.7164, Train: 25.32%, Valid: 23.73% Test: 20.71%\n",
            "Epoch: 12, Loss: 2.6692, Train: 26.53%, Valid: 25.74% Test: 22.80%\n",
            "Epoch: 13, Loss: 2.6230, Train: 28.06%, Valid: 27.84% Test: 24.83%\n",
            "Epoch: 14, Loss: 2.5803, Train: 30.35%, Valid: 30.49% Test: 27.46%\n",
            "Epoch: 15, Loss: 2.5414, Train: 33.59%, Valid: 34.17% Test: 31.34%\n",
            "Epoch: 16, Loss: 2.5056, Train: 37.08%, Valid: 38.44% Test: 36.06%\n",
            "Epoch: 17, Loss: 2.4713, Train: 39.47%, Valid: 42.16% Test: 40.39%\n",
            "Epoch: 18, Loss: 2.4373, Train: 40.82%, Valid: 44.19% Test: 43.25%\n",
            "Epoch: 19, Loss: 2.4027, Train: 41.53%, Valid: 45.15% Test: 44.57%\n",
            "Epoch: 20, Loss: 2.3675, Train: 41.80%, Valid: 45.36% Test: 44.74%\n",
            "Epoch: 30, Loss: 2.0747, Train: 45.83%, Valid: 46.65% Test: 44.41%\n",
            "Epoch: 31, Loss: 2.0517, Train: 47.16%, Valid: 48.34% Test: 46.45%\n",
            "Epoch: 32, Loss: 2.0298, Train: 48.36%, Valid: 49.94% Test: 48.21%\n",
            "Epoch: 33, Loss: 2.0091, Train: 49.37%, Valid: 51.19% Test: 49.76%\n",
            "Epoch: 34, Loss: 1.9895, Train: 50.15%, Valid: 52.10% Test: 50.99%\n",
            "Epoch: 35, Loss: 1.9705, Train: 50.78%, Valid: 52.92% Test: 51.82%\n",
            "Epoch: 36, Loss: 1.9521, Train: 51.27%, Valid: 53.26% Test: 52.25%\n",
            "Epoch: 37, Loss: 1.9341, Train: 51.59%, Valid: 53.43% Test: 52.32%\n",
            "Epoch: 45, Loss: 1.8104, Train: 53.09%, Valid: 53.65% Test: 52.05%\n",
            "Epoch: 46, Loss: 1.7974, Train: 53.42%, Valid: 54.19% Test: 52.58%\n",
            "Epoch: 47, Loss: 1.7848, Train: 53.73%, Valid: 54.76% Test: 53.21%\n",
            "Epoch: 48, Loss: 1.7726, Train: 54.06%, Valid: 55.24% Test: 53.81%\n",
            "Epoch: 49, Loss: 1.7608, Train: 54.38%, Valid: 55.65% Test: 54.32%\n",
            "Epoch: 50, Loss: 1.7493, Train: 54.66%, Valid: 55.88% Test: 54.72%\n",
            "Epoch: 51, Loss: 1.7382, Train: 54.88%, Valid: 56.14% Test: 55.01%\n",
            "Epoch: 52, Loss: 1.7274, Train: 55.12%, Valid: 56.29% Test: 55.19%\n",
            "Epoch: 53, Loss: 1.7169, Train: 55.29%, Valid: 56.40% Test: 55.28%\n",
            "Epoch: 54, Loss: 1.7067, Train: 55.50%, Valid: 56.50% Test: 55.31%\n",
            "Epoch: 55, Loss: 1.6968, Train: 55.63%, Valid: 56.58% Test: 55.33%\n",
            "Epoch: 56, Loss: 1.6873, Train: 55.78%, Valid: 56.63% Test: 55.29%\n",
            "Epoch: 57, Loss: 1.6781, Train: 55.92%, Valid: 56.72% Test: 55.37%\n",
            "Epoch: 58, Loss: 1.6691, Train: 56.04%, Valid: 56.82% Test: 55.46%\n",
            "Epoch: 59, Loss: 1.6605, Train: 56.19%, Valid: 56.94% Test: 55.59%\n",
            "Epoch: 60, Loss: 1.6520, Train: 56.30%, Valid: 57.10% Test: 55.80%\n",
            "Epoch: 61, Loss: 1.6438, Train: 56.41%, Valid: 57.29% Test: 55.98%\n",
            "Epoch: 62, Loss: 1.6359, Train: 56.54%, Valid: 57.47% Test: 56.20%\n",
            "Epoch: 63, Loss: 1.6282, Train: 56.64%, Valid: 57.65% Test: 56.45%\n",
            "Epoch: 64, Loss: 1.6206, Train: 56.79%, Valid: 57.82% Test: 56.58%\n",
            "Epoch: 65, Loss: 1.6133, Train: 56.91%, Valid: 57.84% Test: 56.72%\n",
            "Epoch: 66, Loss: 1.6062, Train: 57.06%, Valid: 57.93% Test: 56.81%\n",
            "Epoch: 67, Loss: 1.5992, Train: 57.21%, Valid: 58.03% Test: 56.84%\n",
            "Epoch: 68, Loss: 1.5924, Train: 57.32%, Valid: 58.12% Test: 56.91%\n",
            "Epoch: 69, Loss: 1.5858, Train: 57.43%, Valid: 58.18% Test: 56.97%\n",
            "Epoch: 70, Loss: 1.5794, Train: 57.54%, Valid: 58.25% Test: 57.03%\n",
            "Epoch: 71, Loss: 1.5731, Train: 57.63%, Valid: 58.38% Test: 57.10%\n",
            "Epoch: 72, Loss: 1.5670, Train: 57.74%, Valid: 58.40% Test: 57.22%\n",
            "Epoch: 73, Loss: 1.5610, Train: 57.82%, Valid: 58.51% Test: 57.28%\n",
            "Epoch: 74, Loss: 1.5552, Train: 57.92%, Valid: 58.59% Test: 57.37%\n",
            "Epoch: 75, Loss: 1.5495, Train: 58.03%, Valid: 58.66% Test: 57.50%\n",
            "Epoch: 76, Loss: 1.5440, Train: 58.12%, Valid: 58.75% Test: 57.60%\n",
            "Epoch: 77, Loss: 1.5386, Train: 58.21%, Valid: 58.81% Test: 57.68%\n",
            "Epoch: 78, Loss: 1.5333, Train: 58.30%, Valid: 58.89% Test: 57.75%\n",
            "Epoch: 79, Loss: 1.5281, Train: 58.41%, Valid: 58.98% Test: 57.84%\n",
            "Epoch: 80, Loss: 1.5231, Train: 58.49%, Valid: 59.07% Test: 57.92%\n",
            "Epoch: 81, Loss: 1.5181, Train: 58.56%, Valid: 59.14% Test: 57.97%\n",
            "Epoch: 82, Loss: 1.5133, Train: 58.64%, Valid: 59.23% Test: 58.06%\n",
            "Epoch: 83, Loss: 1.5085, Train: 58.71%, Valid: 59.31% Test: 58.11%\n",
            "Epoch: 84, Loss: 1.5039, Train: 58.80%, Valid: 59.40% Test: 58.19%\n",
            "Epoch: 85, Loss: 1.4994, Train: 58.86%, Valid: 59.49% Test: 58.31%\n",
            "Epoch: 86, Loss: 1.4949, Train: 58.93%, Valid: 59.54% Test: 58.36%\n",
            "Epoch: 87, Loss: 1.4906, Train: 58.98%, Valid: 59.62% Test: 58.46%\n",
            "Epoch: 88, Loss: 1.4864, Train: 59.08%, Valid: 59.69% Test: 58.55%\n",
            "Epoch: 89, Loss: 1.4822, Train: 59.16%, Valid: 59.74% Test: 58.64%\n",
            "Epoch: 90, Loss: 1.4781, Train: 59.25%, Valid: 59.82% Test: 58.72%\n",
            "Epoch: 91, Loss: 1.4741, Train: 59.31%, Valid: 59.87% Test: 58.76%\n",
            "Epoch: 92, Loss: 1.4702, Train: 59.37%, Valid: 59.93% Test: 58.81%\n",
            "Epoch: 93, Loss: 1.4663, Train: 59.46%, Valid: 59.98% Test: 58.87%\n",
            "Epoch: 94, Loss: 1.4626, Train: 59.52%, Valid: 60.02% Test: 58.92%\n",
            "Epoch: 95, Loss: 1.4589, Train: 59.57%, Valid: 60.10% Test: 58.98%\n",
            "Epoch: 96, Loss: 1.4552, Train: 59.63%, Valid: 60.15% Test: 59.01%\n",
            "Epoch: 97, Loss: 1.4517, Train: 59.69%, Valid: 60.23% Test: 59.07%\n",
            "Epoch: 98, Loss: 1.4482, Train: 59.76%, Valid: 60.30% Test: 59.10%\n",
            "Epoch: 99, Loss: 1.4447, Train: 59.84%, Valid: 60.35% Test: 59.17%\n",
            "Epoch: 100, Loss: 1.4414, Train: 59.91%, Valid: 60.39% Test: 59.21%\n",
            "Best model: Train: 59.91%, Valid: 60.39% Test: 59.21% Exec. Time: 3.23538 sec\n"
          ]
        }
      ],
      "source": [
        "import time\n",
        "\n",
        "args_SAGE = {\n",
        "    'device': device,\n",
        "    'num_layers': 3,\n",
        "    'lr': 0.01,\n",
        "    'epochs': 100,\n",
        "}\n",
        "\n",
        "#model_SAGE = SAGEConv(data.num_features, dataset.num_classes, aggr = args_SAGE['aggr'] ).to(device)\n",
        "\n",
        "model_SAGE = SAGEConv3(data.num_features, dataset.num_classes).to(device)\n",
        "\n",
        "optimizer_SAGE = torch.optim.Adam(model_SAGE.parameters(), lr=args_SAGE['lr'])\n",
        "loss_fn = F.nll_loss\n",
        "\n",
        "evaluator = Evaluator(name='ogbn-arxiv')\n",
        "\n",
        "best_model = None\n",
        "best_valid_acc = 0\n",
        "\n",
        "start_time = time.time()\n",
        "\n",
        "for epoch in range(1, 1 + args_SAGE[\"epochs\"]):\n",
        "      loss = train_GNN(model_SAGE, data, split_idx['train'], optimizer_SAGE, loss_fn)\n",
        "\n",
        "      result = test_GNN(model_SAGE, data, split_idx, evaluator)\n",
        "      train_acc, valid_acc, test_acc = result\n",
        "      if valid_acc > best_valid_acc:\n",
        "        best_valid_acc = valid_acc\n",
        "        best_model = copy.deepcopy(model_SAGE)\n",
        "        print(f'Epoch: {epoch:02d}, '\n",
        "              f'Loss: {loss:.4f}, '\n",
        "              f'Train: {100 * train_acc:.2f}%, '\n",
        "              f'Valid: {100 * valid_acc:.2f}% '\n",
        "              f'Test: {100 * test_acc:.2f}%')\n",
        "\n",
        "best_result = test_GNN(best_model, data, split_idx, evaluator)\n",
        "train_acc, valid_acc, test_acc = best_result\n",
        "print(f'Best model: '\n",
        "          f'Train: {100 * train_acc:.2f}%, '\n",
        "          f'Valid: {100 * valid_acc:.2f}% '\n",
        "          f'Test: {100 * test_acc:.2f}%',\n",
        "              f'Exec. Time: {(time.time() - start_time) :.5f} sec')"
      ]
    },
    {
      "cell_type": "markdown",
      "metadata": {
        "id": "cpvN_QUfs6kj"
      },
      "source": [
        "## Performance using the \"min\" *aggregator*"
      ]
    },
    {
      "cell_type": "code",
      "execution_count": 38,
      "metadata": {
        "colab": {
          "base_uri": "https://localhost:8080/"
        },
        "id": "aDZBuLNPy8dW",
        "outputId": "3a2d1f4d-8b74-43a6-fe54-fc6356bb6ae5"
      },
      "outputs": [
        {
          "name": "stdout",
          "output_type": "stream",
          "text": [
            "Epoch: 01, Loss: 3.7506, Train: 12.00%, Valid: 17.63% Test: 16.66%\n",
            "Epoch: 02, Loss: 3.4041, Train: 13.97%, Valid: 22.89% Test: 21.83%\n",
            "Epoch: 03, Loss: 3.1727, Train: 15.22%, Valid: 24.36% Test: 22.72%\n",
            "Epoch: 04, Loss: 3.0253, Train: 17.83%, Valid: 24.85% Test: 23.20%\n",
            "Epoch: 05, Loss: 2.9354, Train: 22.94%, Valid: 26.39% Test: 24.62%\n",
            "Epoch: 14, Loss: 2.5657, Train: 29.04%, Valid: 27.05% Test: 25.01%\n",
            "Epoch: 15, Loss: 2.5291, Train: 32.37%, Valid: 31.07% Test: 28.66%\n",
            "Epoch: 16, Loss: 2.4944, Train: 35.00%, Valid: 34.12% Test: 31.38%\n",
            "Epoch: 17, Loss: 2.4602, Train: 36.80%, Valid: 36.45% Test: 33.51%\n",
            "Epoch: 18, Loss: 2.4259, Train: 37.98%, Valid: 38.09% Test: 35.24%\n",
            "Epoch: 19, Loss: 2.3920, Train: 38.74%, Valid: 39.24% Test: 36.77%\n",
            "Epoch: 20, Loss: 2.3586, Train: 39.28%, Valid: 40.15% Test: 38.08%\n",
            "Epoch: 21, Loss: 2.3262, Train: 39.58%, Valid: 40.84% Test: 39.01%\n",
            "Epoch: 22, Loss: 2.2946, Train: 39.92%, Valid: 41.32% Test: 39.69%\n",
            "Epoch: 23, Loss: 2.2638, Train: 40.36%, Valid: 41.82% Test: 40.06%\n",
            "Epoch: 24, Loss: 2.2340, Train: 40.77%, Valid: 41.99% Test: 40.34%\n",
            "Epoch: 25, Loss: 2.2055, Train: 41.17%, Valid: 42.22% Test: 40.47%\n",
            "Epoch: 26, Loss: 2.1786, Train: 41.73%, Valid: 42.50% Test: 40.66%\n",
            "Epoch: 27, Loss: 2.1535, Train: 42.39%, Valid: 42.92% Test: 40.97%\n",
            "Epoch: 28, Loss: 2.1299, Train: 43.11%, Valid: 43.49% Test: 41.45%\n",
            "Epoch: 29, Loss: 2.1075, Train: 43.97%, Valid: 44.26% Test: 42.15%\n",
            "Epoch: 30, Loss: 2.0856, Train: 44.79%, Valid: 45.17% Test: 43.09%\n",
            "Epoch: 31, Loss: 2.0640, Train: 45.72%, Valid: 46.27% Test: 44.14%\n",
            "Epoch: 32, Loss: 2.0425, Train: 46.62%, Valid: 47.36% Test: 45.46%\n",
            "Epoch: 33, Loss: 2.0213, Train: 47.44%, Valid: 48.35% Test: 46.70%\n",
            "Epoch: 34, Loss: 2.0009, Train: 48.17%, Valid: 49.25% Test: 47.80%\n",
            "Epoch: 35, Loss: 1.9817, Train: 48.81%, Valid: 50.01% Test: 48.72%\n",
            "Epoch: 36, Loss: 1.9636, Train: 49.42%, Valid: 50.67% Test: 49.42%\n",
            "Epoch: 37, Loss: 1.9466, Train: 49.95%, Valid: 51.19% Test: 49.97%\n",
            "Epoch: 38, Loss: 1.9301, Train: 50.38%, Valid: 51.55% Test: 50.28%\n",
            "Epoch: 39, Loss: 1.9140, Train: 50.78%, Valid: 51.85% Test: 50.51%\n",
            "Epoch: 40, Loss: 1.8981, Train: 51.17%, Valid: 52.11% Test: 50.68%\n",
            "Epoch: 41, Loss: 1.8825, Train: 51.56%, Valid: 52.31% Test: 50.84%\n",
            "Epoch: 42, Loss: 1.8673, Train: 51.83%, Valid: 52.55% Test: 51.01%\n",
            "Epoch: 43, Loss: 1.8528, Train: 52.09%, Valid: 52.66% Test: 51.21%\n",
            "Epoch: 44, Loss: 1.8389, Train: 52.35%, Valid: 52.92% Test: 51.45%\n",
            "Epoch: 45, Loss: 1.8257, Train: 52.64%, Valid: 53.22% Test: 51.73%\n",
            "Epoch: 46, Loss: 1.8130, Train: 52.89%, Valid: 53.49% Test: 52.06%\n",
            "Epoch: 47, Loss: 1.8007, Train: 53.07%, Valid: 53.71% Test: 52.37%\n",
            "Epoch: 48, Loss: 1.7889, Train: 53.29%, Valid: 54.06% Test: 52.69%\n",
            "Epoch: 49, Loss: 1.7774, Train: 53.45%, Valid: 54.28% Test: 52.99%\n",
            "Epoch: 50, Loss: 1.7663, Train: 53.67%, Valid: 54.51% Test: 53.24%\n",
            "Epoch: 51, Loss: 1.7554, Train: 53.90%, Valid: 54.73% Test: 53.46%\n",
            "Epoch: 52, Loss: 1.7447, Train: 54.16%, Valid: 54.98% Test: 53.63%\n",
            "Epoch: 53, Loss: 1.7343, Train: 54.41%, Valid: 55.14% Test: 53.81%\n",
            "Epoch: 54, Loss: 1.7243, Train: 54.64%, Valid: 55.33% Test: 53.95%\n",
            "Epoch: 55, Loss: 1.7145, Train: 54.89%, Valid: 55.51% Test: 54.06%\n",
            "Epoch: 56, Loss: 1.7052, Train: 55.07%, Valid: 55.67% Test: 54.22%\n",
            "Epoch: 57, Loss: 1.6961, Train: 55.30%, Valid: 55.86% Test: 54.36%\n",
            "Epoch: 58, Loss: 1.6873, Train: 55.46%, Valid: 56.00% Test: 54.57%\n",
            "Epoch: 59, Loss: 1.6787, Train: 55.63%, Valid: 56.15% Test: 54.76%\n",
            "Epoch: 60, Loss: 1.6703, Train: 55.75%, Valid: 56.32% Test: 54.97%\n",
            "Epoch: 61, Loss: 1.6621, Train: 55.91%, Valid: 56.41% Test: 55.15%\n",
            "Epoch: 62, Loss: 1.6542, Train: 56.06%, Valid: 56.51% Test: 55.30%\n",
            "Epoch: 63, Loss: 1.6465, Train: 56.16%, Valid: 56.58% Test: 55.41%\n",
            "Epoch: 64, Loss: 1.6390, Train: 56.25%, Valid: 56.65% Test: 55.49%\n",
            "Epoch: 65, Loss: 1.6318, Train: 56.33%, Valid: 56.71% Test: 55.56%\n",
            "Epoch: 66, Loss: 1.6247, Train: 56.42%, Valid: 56.78% Test: 55.59%\n",
            "Epoch: 67, Loss: 1.6178, Train: 56.52%, Valid: 56.81% Test: 55.60%\n",
            "Epoch: 68, Loss: 1.6112, Train: 56.59%, Valid: 56.92% Test: 55.64%\n",
            "Epoch: 69, Loss: 1.6046, Train: 56.70%, Valid: 57.01% Test: 55.72%\n",
            "Epoch: 70, Loss: 1.5983, Train: 56.79%, Valid: 57.14% Test: 55.82%\n",
            "Epoch: 71, Loss: 1.5921, Train: 56.93%, Valid: 57.29% Test: 55.95%\n",
            "Epoch: 72, Loss: 1.5860, Train: 57.07%, Valid: 57.44% Test: 56.08%\n",
            "Epoch: 73, Loss: 1.5801, Train: 57.20%, Valid: 57.56% Test: 56.22%\n",
            "Epoch: 74, Loss: 1.5743, Train: 57.33%, Valid: 57.67% Test: 56.37%\n",
            "Epoch: 75, Loss: 1.5687, Train: 57.46%, Valid: 57.82% Test: 56.48%\n",
            "Epoch: 76, Loss: 1.5632, Train: 57.57%, Valid: 57.94% Test: 56.59%\n",
            "Epoch: 77, Loss: 1.5578, Train: 57.68%, Valid: 58.01% Test: 56.67%\n",
            "Epoch: 78, Loss: 1.5526, Train: 57.78%, Valid: 58.04% Test: 56.72%\n",
            "Epoch: 79, Loss: 1.5475, Train: 57.85%, Valid: 58.10% Test: 56.79%\n",
            "Epoch: 80, Loss: 1.5425, Train: 57.95%, Valid: 58.21% Test: 56.85%\n",
            "Epoch: 81, Loss: 1.5376, Train: 58.01%, Valid: 58.26% Test: 56.89%\n",
            "Epoch: 82, Loss: 1.5328, Train: 58.07%, Valid: 58.30% Test: 56.98%\n",
            "Epoch: 83, Loss: 1.5281, Train: 58.11%, Valid: 58.34% Test: 57.05%\n",
            "Epoch: 84, Loss: 1.5236, Train: 58.17%, Valid: 58.41% Test: 57.13%\n",
            "Epoch: 85, Loss: 1.5191, Train: 58.21%, Valid: 58.49% Test: 57.18%\n",
            "Epoch: 86, Loss: 1.5147, Train: 58.28%, Valid: 58.54% Test: 57.24%\n",
            "Epoch: 87, Loss: 1.5104, Train: 58.38%, Valid: 58.62% Test: 57.35%\n",
            "Epoch: 88, Loss: 1.5063, Train: 58.42%, Valid: 58.69% Test: 57.44%\n",
            "Epoch: 89, Loss: 1.5021, Train: 58.51%, Valid: 58.76% Test: 57.50%\n",
            "Epoch: 90, Loss: 1.4981, Train: 58.57%, Valid: 58.83% Test: 57.57%\n",
            "Epoch: 91, Loss: 1.4942, Train: 58.66%, Valid: 58.92% Test: 57.61%\n",
            "Epoch: 92, Loss: 1.4903, Train: 58.78%, Valid: 58.97% Test: 57.67%\n",
            "Epoch: 93, Loss: 1.4865, Train: 58.87%, Valid: 59.03% Test: 57.73%\n",
            "Epoch: 94, Loss: 1.4828, Train: 58.95%, Valid: 59.12% Test: 57.80%\n",
            "Epoch: 95, Loss: 1.4792, Train: 59.00%, Valid: 59.19% Test: 57.84%\n",
            "Epoch: 96, Loss: 1.4756, Train: 59.06%, Valid: 59.25% Test: 57.87%\n",
            "Epoch: 97, Loss: 1.4721, Train: 59.12%, Valid: 59.33% Test: 57.93%\n",
            "Epoch: 98, Loss: 1.4687, Train: 59.16%, Valid: 59.41% Test: 58.01%\n",
            "Epoch: 99, Loss: 1.4653, Train: 59.20%, Valid: 59.42% Test: 58.06%\n",
            "Epoch: 100, Loss: 1.4620, Train: 59.27%, Valid: 59.47% Test: 58.11%\n",
            "Best model: Train: 59.27%, Valid: 59.47% Test: 58.11% Exec. Time: 3.81549 sec\n"
          ]
        }
      ],
      "source": [
        "import time\n",
        "\n",
        "args_SAGE = {\n",
        "    'device': device,\n",
        "    'num_layers': 3,\n",
        "    'lr': 0.01,\n",
        "    'epochs': 100,\n",
        "}\n",
        "\n",
        "#model_SAGE = SAGEConv(data.num_features, dataset.num_classes, aggr = args_SAGE['aggr'] ).to(device)\n",
        "\n",
        "model_SAGE = SAGEConv3(data.num_features, dataset.num_classes).to(device)\n",
        "\n",
        "optimizer_SAGE = torch.optim.Adam(model_SAGE.parameters(), lr=args_SAGE['lr'])\n",
        "loss_fn = F.nll_loss\n",
        "\n",
        "evaluator = Evaluator(name='ogbn-arxiv')\n",
        "\n",
        "best_model = None\n",
        "best_valid_acc = 0\n",
        "\n",
        "start_time = time.time()\n",
        "\n",
        "for epoch in range(1, 1 + args_SAGE[\"epochs\"]):\n",
        "      loss = train_GNN(model_SAGE, data, split_idx['train'], optimizer_SAGE, loss_fn)\n",
        "\n",
        "      result = test_GNN(model_SAGE, data, split_idx, evaluator)\n",
        "      train_acc, valid_acc, test_acc = result\n",
        "      if valid_acc > best_valid_acc:\n",
        "        best_valid_acc = valid_acc\n",
        "        best_model = copy.deepcopy(model_SAGE)\n",
        "        print(f'Epoch: {epoch:02d}, '\n",
        "              f'Loss: {loss:.4f}, '\n",
        "              f'Train: {100 * train_acc:.2f}%, '\n",
        "              f'Valid: {100 * valid_acc:.2f}% '\n",
        "              f'Test: {100 * test_acc:.2f}%')\n",
        "\n",
        "best_result = test_GNN(best_model, data, split_idx, evaluator)\n",
        "train_acc, valid_acc, test_acc = best_result\n",
        "print(f'Best model: '\n",
        "          f'Train: {100 * train_acc:.2f}%, '\n",
        "          f'Valid: {100 * valid_acc:.2f}% '\n",
        "          f'Test: {100 * test_acc:.2f}%',\n",
        "              f'Exec. Time: {(time.time() - start_time) :.5f} sec')"
      ]
    },
    {
      "cell_type": "markdown",
      "metadata": {
        "id": "VLOgIMyus9R8"
      },
      "source": [
        "## Performance using the \"max\" *aggregator*"
      ]
    },
    {
      "cell_type": "code",
      "execution_count": 42,
      "metadata": {
        "colab": {
          "base_uri": "https://localhost:8080/"
        },
        "id": "GXWBYjcly-sJ",
        "outputId": "a66ba881-3a14-473c-8842-6c9ce80ef354"
      },
      "outputs": [
        {
          "name": "stdout",
          "output_type": "stream",
          "text": [
            "Epoch: 01, Loss: 3.7395, Train: 11.17%, Valid: 22.09% Test: 20.80%\n",
            "Epoch: 02, Loss: 3.3924, Train: 11.56%, Valid: 23.11% Test: 21.82%\n",
            "Epoch: 04, Loss: 3.0438, Train: 14.48%, Valid: 23.96% Test: 22.22%\n",
            "Epoch: 05, Loss: 2.9660, Train: 22.97%, Valid: 25.22% Test: 22.75%\n",
            "Epoch: 14, Loss: 2.5935, Train: 29.68%, Valid: 29.44% Test: 28.01%\n",
            "Epoch: 15, Loss: 2.5579, Train: 32.96%, Valid: 33.63% Test: 31.40%\n",
            "Epoch: 16, Loss: 2.5239, Train: 34.78%, Valid: 35.40% Test: 32.71%\n",
            "Epoch: 17, Loss: 2.4901, Train: 35.61%, Valid: 36.12% Test: 32.97%\n",
            "Epoch: 18, Loss: 2.4557, Train: 35.98%, Valid: 36.38% Test: 33.03%\n",
            "Epoch: 19, Loss: 2.4208, Train: 36.35%, Valid: 36.70% Test: 33.52%\n",
            "Epoch: 20, Loss: 2.3860, Train: 36.96%, Valid: 37.26% Test: 34.51%\n",
            "Epoch: 21, Loss: 2.3519, Train: 37.72%, Valid: 38.33% Test: 36.11%\n",
            "Epoch: 22, Loss: 2.3190, Train: 38.32%, Valid: 39.42% Test: 37.85%\n",
            "Epoch: 23, Loss: 2.2875, Train: 38.83%, Valid: 40.72% Test: 39.54%\n",
            "Epoch: 24, Loss: 2.2577, Train: 39.21%, Valid: 41.61% Test: 40.63%\n",
            "Epoch: 25, Loss: 2.2293, Train: 39.70%, Valid: 42.12% Test: 41.19%\n",
            "Epoch: 26, Loss: 2.2025, Train: 40.29%, Valid: 42.55% Test: 41.21%\n",
            "Epoch: 27, Loss: 2.1769, Train: 40.98%, Valid: 42.90% Test: 41.18%\n",
            "Epoch: 28, Loss: 2.1525, Train: 41.81%, Valid: 43.38% Test: 41.25%\n",
            "Epoch: 29, Loss: 2.1290, Train: 42.83%, Valid: 44.04% Test: 41.53%\n",
            "Epoch: 30, Loss: 2.1062, Train: 43.84%, Valid: 44.72% Test: 42.08%\n",
            "Epoch: 31, Loss: 2.0841, Train: 44.89%, Valid: 45.55% Test: 42.79%\n",
            "Epoch: 32, Loss: 2.0625, Train: 45.89%, Valid: 46.37% Test: 43.61%\n",
            "Epoch: 33, Loss: 2.0415, Train: 46.78%, Valid: 47.30% Test: 44.58%\n",
            "Epoch: 34, Loss: 2.0213, Train: 47.53%, Valid: 48.26% Test: 45.80%\n",
            "Epoch: 35, Loss: 2.0019, Train: 48.27%, Valid: 49.27% Test: 47.13%\n",
            "Epoch: 36, Loss: 1.9834, Train: 48.97%, Valid: 50.30% Test: 48.52%\n",
            "Epoch: 37, Loss: 1.9657, Train: 49.53%, Valid: 51.06% Test: 49.66%\n",
            "Epoch: 38, Loss: 1.9487, Train: 50.07%, Valid: 51.86% Test: 50.53%\n",
            "Epoch: 39, Loss: 1.9321, Train: 50.46%, Valid: 52.33% Test: 51.08%\n",
            "Epoch: 40, Loss: 1.9159, Train: 50.83%, Valid: 52.54% Test: 51.34%\n",
            "Epoch: 41, Loss: 1.9000, Train: 51.14%, Valid: 52.57% Test: 51.31%\n",
            "Epoch: 42, Loss: 1.8846, Train: 51.40%, Valid: 52.60% Test: 51.13%\n",
            "Epoch: 43, Loss: 1.8697, Train: 51.62%, Valid: 52.66% Test: 50.94%\n",
            "Epoch: 45, Loss: 1.8417, Train: 52.03%, Valid: 52.71% Test: 50.78%\n",
            "Epoch: 46, Loss: 1.8286, Train: 52.27%, Valid: 52.86% Test: 50.88%\n",
            "Epoch: 47, Loss: 1.8160, Train: 52.54%, Valid: 53.08% Test: 51.16%\n",
            "Epoch: 48, Loss: 1.8037, Train: 52.85%, Valid: 53.42% Test: 51.56%\n",
            "Epoch: 49, Loss: 1.7918, Train: 53.12%, Valid: 53.82% Test: 52.12%\n",
            "Epoch: 50, Loss: 1.7802, Train: 53.46%, Valid: 54.29% Test: 52.67%\n",
            "Epoch: 51, Loss: 1.7689, Train: 53.76%, Valid: 54.67% Test: 53.17%\n",
            "Epoch: 52, Loss: 1.7580, Train: 54.05%, Valid: 55.01% Test: 53.66%\n",
            "Epoch: 53, Loss: 1.7474, Train: 54.32%, Valid: 55.28% Test: 54.00%\n",
            "Epoch: 54, Loss: 1.7371, Train: 54.54%, Valid: 55.46% Test: 54.22%\n",
            "Epoch: 55, Loss: 1.7271, Train: 54.74%, Valid: 55.66% Test: 54.34%\n",
            "Epoch: 56, Loss: 1.7174, Train: 54.92%, Valid: 55.85% Test: 54.41%\n",
            "Epoch: 57, Loss: 1.7079, Train: 55.08%, Valid: 55.88% Test: 54.44%\n",
            "Epoch: 58, Loss: 1.6987, Train: 55.24%, Valid: 56.00% Test: 54.51%\n",
            "Epoch: 59, Loss: 1.6898, Train: 55.38%, Valid: 56.08% Test: 54.57%\n",
            "Epoch: 60, Loss: 1.6812, Train: 55.51%, Valid: 56.20% Test: 54.70%\n",
            "Epoch: 61, Loss: 1.6729, Train: 55.64%, Valid: 56.34% Test: 54.85%\n",
            "Epoch: 62, Loss: 1.6648, Train: 55.78%, Valid: 56.53% Test: 55.08%\n",
            "Epoch: 63, Loss: 1.6568, Train: 55.91%, Valid: 56.70% Test: 55.21%\n",
            "Epoch: 64, Loss: 1.6491, Train: 56.03%, Valid: 56.82% Test: 55.39%\n",
            "Epoch: 65, Loss: 1.6416, Train: 56.13%, Valid: 56.93% Test: 55.58%\n",
            "Epoch: 66, Loss: 1.6343, Train: 56.26%, Valid: 57.04% Test: 55.68%\n",
            "Epoch: 67, Loss: 1.6272, Train: 56.38%, Valid: 57.20% Test: 55.86%\n",
            "Epoch: 68, Loss: 1.6202, Train: 56.50%, Valid: 57.27% Test: 55.98%\n",
            "Epoch: 69, Loss: 1.6135, Train: 56.65%, Valid: 57.36% Test: 56.10%\n",
            "Epoch: 70, Loss: 1.6069, Train: 56.75%, Valid: 57.51% Test: 56.20%\n",
            "Epoch: 71, Loss: 1.6005, Train: 56.85%, Valid: 57.59% Test: 56.29%\n",
            "Epoch: 72, Loss: 1.5942, Train: 56.95%, Valid: 57.65% Test: 56.40%\n",
            "Epoch: 73, Loss: 1.5881, Train: 57.07%, Valid: 57.72% Test: 56.47%\n",
            "Epoch: 74, Loss: 1.5821, Train: 57.17%, Valid: 57.83% Test: 56.54%\n",
            "Epoch: 75, Loss: 1.5763, Train: 57.28%, Valid: 57.93% Test: 56.61%\n",
            "Epoch: 76, Loss: 1.5706, Train: 57.37%, Valid: 58.03% Test: 56.68%\n",
            "Epoch: 77, Loss: 1.5651, Train: 57.45%, Valid: 58.14% Test: 56.75%\n",
            "Epoch: 78, Loss: 1.5597, Train: 57.55%, Valid: 58.20% Test: 56.86%\n",
            "Epoch: 79, Loss: 1.5544, Train: 57.64%, Valid: 58.34% Test: 56.97%\n",
            "Epoch: 80, Loss: 1.5492, Train: 57.70%, Valid: 58.46% Test: 57.10%\n",
            "Epoch: 81, Loss: 1.5442, Train: 57.79%, Valid: 58.50% Test: 57.18%\n",
            "Epoch: 82, Loss: 1.5392, Train: 57.86%, Valid: 58.57% Test: 57.21%\n",
            "Epoch: 83, Loss: 1.5344, Train: 57.92%, Valid: 58.63% Test: 57.28%\n",
            "Epoch: 84, Loss: 1.5297, Train: 58.01%, Valid: 58.68% Test: 57.34%\n",
            "Epoch: 85, Loss: 1.5251, Train: 58.09%, Valid: 58.73% Test: 57.40%\n",
            "Epoch: 86, Loss: 1.5205, Train: 58.17%, Valid: 58.80% Test: 57.45%\n",
            "Epoch: 87, Loss: 1.5161, Train: 58.25%, Valid: 58.86% Test: 57.48%\n",
            "Epoch: 88, Loss: 1.5118, Train: 58.30%, Valid: 58.92% Test: 57.53%\n",
            "Epoch: 89, Loss: 1.5075, Train: 58.38%, Valid: 59.02% Test: 57.60%\n",
            "Epoch: 90, Loss: 1.5034, Train: 58.44%, Valid: 59.06% Test: 57.65%\n",
            "Epoch: 91, Loss: 1.4993, Train: 58.52%, Valid: 59.15% Test: 57.75%\n",
            "Epoch: 92, Loss: 1.4953, Train: 58.61%, Valid: 59.22% Test: 57.83%\n",
            "Epoch: 93, Loss: 1.4914, Train: 58.68%, Valid: 59.30% Test: 57.88%\n",
            "Epoch: 94, Loss: 1.4876, Train: 58.75%, Valid: 59.37% Test: 57.96%\n",
            "Epoch: 95, Loss: 1.4838, Train: 58.83%, Valid: 59.42% Test: 58.04%\n",
            "Epoch: 96, Loss: 1.4802, Train: 58.90%, Valid: 59.48% Test: 58.08%\n",
            "Epoch: 97, Loss: 1.4765, Train: 58.96%, Valid: 59.49% Test: 58.11%\n",
            "Epoch: 98, Loss: 1.4730, Train: 59.01%, Valid: 59.54% Test: 58.15%\n",
            "Epoch: 99, Loss: 1.4695, Train: 59.07%, Valid: 59.56% Test: 58.17%\n",
            "Epoch: 100, Loss: 1.4661, Train: 59.14%, Valid: 59.63% Test: 58.20%\n",
            "Best model: Train: 59.14%, Valid: 59.63% Test: 58.20%\n"
          ]
        }
      ],
      "source": [
        "args_SAGE = {\n",
        "    'device': device,\n",
        "    'num_layers': 3,\n",
        "    'lr': 0.01,\n",
        "    'epochs': 100,\n",
        "}\n",
        "\n",
        "#model_SAGE = SAGEConv(data.num_features, dataset.num_classes, aggr = args_SAGE['aggr'] ).to(device)\n",
        "\n",
        "model_SAGE = SAGEConv3(data.num_features, dataset.num_classes).to(device)\n",
        "\n",
        "optimizer_SAGE = torch.optim.Adam(model_SAGE.parameters(), lr=args_SAGE['lr'])\n",
        "loss_fn = F.nll_loss\n",
        "\n",
        "evaluator = Evaluator(name='ogbn-arxiv')\n",
        "\n",
        "best_model = None\n",
        "best_valid_acc = 0\n",
        "\n",
        "for epoch in range(1, 1 + args_SAGE[\"epochs\"]):\n",
        "      loss = train_GNN(model_SAGE, data, split_idx['train'], optimizer_SAGE, loss_fn)\n",
        "\n",
        "      result = test_GNN(model_SAGE, data, split_idx, evaluator)\n",
        "      train_acc, valid_acc, test_acc = result\n",
        "      if valid_acc > best_valid_acc:\n",
        "        best_valid_acc = valid_acc\n",
        "        best_model = copy.deepcopy(model_SAGE)\n",
        "        print(f'Epoch: {epoch:02d}, '\n",
        "              f'Loss: {loss:.4f}, '\n",
        "              f'Train: {100 * train_acc:.2f}%, '\n",
        "              f'Valid: {100 * valid_acc:.2f}% '\n",
        "              f'Test: {100 * test_acc:.2f}%')\n",
        "\n",
        "best_result = test_GNN(best_model, data, split_idx, evaluator)\n",
        "train_acc, valid_acc, test_acc = best_result\n",
        "print(f'Best model: '\n",
        "          f'Train: {100 * train_acc:.2f}%, '\n",
        "          f'Valid: {100 * valid_acc:.2f}% '\n",
        "          f'Test: {100 * test_acc:.2f}%')"
      ]
    },
    {
      "cell_type": "markdown",
      "metadata": {
        "id": "cEydxxK-tE4a"
      },
      "source": [
        "## Performance using the \"Add\" *aggregator*"
      ]
    },
    {
      "cell_type": "code",
      "execution_count": 53,
      "metadata": {
        "colab": {
          "base_uri": "https://localhost:8080/"
        },
        "id": "M5lz-0EDzLTw",
        "outputId": "b5455a3c-08b5-40f0-a37b-346bad4a6d3d"
      },
      "outputs": [
        {
          "name": "stdout",
          "output_type": "stream",
          "text": [
            "Epoch: 01, Loss: 5.5136, Train: 8.97%, Valid: 15.31% Test: 22.26%\n",
            "Epoch: 02, Loss: 4.4524, Train: 23.40%, Valid: 23.07% Test: 20.45%\n",
            "Epoch: 03, Loss: 3.5238, Train: 26.04%, Valid: 28.92% Test: 26.29%\n",
            "Epoch: 06, Loss: 4.1008, Train: 31.82%, Valid: 32.65% Test: 29.83%\n",
            "Epoch: 14, Loss: 2.9871, Train: 32.19%, Valid: 33.12% Test: 35.37%\n",
            "Epoch: 15, Loss: 2.7477, Train: 33.71%, Valid: 36.25% Test: 34.05%\n",
            "Epoch: 16, Loss: 2.6836, Train: 36.97%, Valid: 39.21% Test: 36.31%\n",
            "Epoch: 17, Loss: 2.7399, Train: 40.18%, Valid: 40.83% Test: 37.70%\n",
            "Epoch: 18, Loss: 2.7711, Train: 43.16%, Valid: 42.67% Test: 39.35%\n",
            "Epoch: 19, Loss: 2.7231, Train: 45.34%, Valid: 44.91% Test: 42.18%\n",
            "Epoch: 20, Loss: 2.6069, Train: 45.67%, Valid: 46.73% Test: 45.54%\n",
            "Epoch: 21, Loss: 2.4736, Train: 45.30%, Valid: 48.48% Test: 49.64%\n",
            "Epoch: 29, Loss: 2.1551, Train: 50.75%, Valid: 50.59% Test: 48.87%\n",
            "Epoch: 30, Loss: 2.0919, Train: 51.88%, Valid: 53.22% Test: 52.60%\n",
            "Epoch: 31, Loss: 2.0370, Train: 52.01%, Valid: 54.39% Test: 54.78%\n",
            "Epoch: 33, Loss: 2.0461, Train: 52.74%, Valid: 54.82% Test: 55.39%\n",
            "Epoch: 34, Loss: 2.0470, Train: 54.24%, Valid: 56.44% Test: 56.85%\n",
            "Epoch: 35, Loss: 2.0000, Train: 55.52%, Valid: 57.72% Test: 57.25%\n",
            "Epoch: 51, Loss: 1.7496, Train: 56.54%, Valid: 57.77% Test: 56.85%\n",
            "Epoch: 52, Loss: 1.7417, Train: 56.85%, Valid: 58.09% Test: 57.24%\n",
            "Epoch: 53, Loss: 1.7305, Train: 57.07%, Valid: 58.23% Test: 57.20%\n",
            "Epoch: 54, Loss: 1.7176, Train: 57.22%, Valid: 58.28% Test: 56.82%\n",
            "Epoch: 57, Loss: 1.6936, Train: 57.74%, Valid: 58.59% Test: 57.20%\n",
            "Epoch: 58, Loss: 1.6821, Train: 57.97%, Valid: 59.12% Test: 57.98%\n",
            "Epoch: 59, Loss: 1.6730, Train: 58.21%, Valid: 59.45% Test: 58.57%\n",
            "Epoch: 60, Loss: 1.6672, Train: 58.45%, Valid: 59.72% Test: 58.85%\n",
            "Epoch: 61, Loss: 1.6596, Train: 58.70%, Valid: 59.83% Test: 58.77%\n",
            "Epoch: 62, Loss: 1.6489, Train: 58.91%, Valid: 59.87% Test: 58.44%\n",
            "Epoch: 64, Loss: 1.6346, Train: 59.17%, Valid: 60.06% Test: 58.46%\n",
            "Epoch: 65, Loss: 1.6279, Train: 59.33%, Valid: 60.38% Test: 59.03%\n",
            "Epoch: 66, Loss: 1.6193, Train: 59.40%, Valid: 60.77% Test: 59.60%\n",
            "Epoch: 67, Loss: 1.6131, Train: 59.47%, Valid: 60.80% Test: 59.82%\n",
            "Epoch: 68, Loss: 1.6071, Train: 59.50%, Valid: 60.92% Test: 59.68%\n",
            "Epoch: 73, Loss: 1.5750, Train: 59.90%, Valid: 60.96% Test: 59.67%\n",
            "Epoch: 74, Loss: 1.5704, Train: 60.03%, Valid: 61.07% Test: 59.77%\n",
            "Epoch: 75, Loss: 1.5652, Train: 60.17%, Valid: 61.09% Test: 59.74%\n",
            "Epoch: 76, Loss: 1.5592, Train: 60.27%, Valid: 61.16% Test: 59.50%\n",
            "Epoch: 77, Loss: 1.5540, Train: 60.30%, Valid: 61.17% Test: 59.35%\n",
            "Epoch: 78, Loss: 1.5495, Train: 60.37%, Valid: 61.27% Test: 59.49%\n",
            "Epoch: 79, Loss: 1.5442, Train: 60.40%, Valid: 61.36% Test: 59.87%\n",
            "Epoch: 80, Loss: 1.5393, Train: 60.40%, Valid: 61.50% Test: 60.05%\n",
            "Epoch: 86, Loss: 1.5131, Train: 60.75%, Valid: 61.56% Test: 59.93%\n",
            "Epoch: 87, Loss: 1.5092, Train: 60.80%, Valid: 61.69% Test: 60.10%\n",
            "Epoch: 88, Loss: 1.5054, Train: 60.84%, Valid: 61.77% Test: 60.11%\n",
            "Epoch: 91, Loss: 1.4944, Train: 61.01%, Valid: 61.84% Test: 60.03%\n",
            "Epoch: 92, Loss: 1.4908, Train: 61.07%, Valid: 61.95% Test: 60.19%\n",
            "Epoch: 93, Loss: 1.4874, Train: 61.13%, Valid: 62.05% Test: 60.30%\n",
            "Epoch: 95, Loss: 1.4811, Train: 61.24%, Valid: 62.06% Test: 60.35%\n",
            "Epoch: 97, Loss: 1.4752, Train: 61.27%, Valid: 62.13% Test: 60.44%\n",
            "Epoch: 98, Loss: 1.4723, Train: 61.29%, Valid: 62.24% Test: 60.53%\n",
            "Epoch: 99, Loss: 1.4695, Train: 61.32%, Valid: 62.29% Test: 60.58%\n",
            "Epoch: 100, Loss: 1.4669, Train: 61.33%, Valid: 62.31% Test: 60.57%\n",
            "Best model: Train: 61.33%, Valid: 62.31% Test: 60.57%\n"
          ]
        }
      ],
      "source": [
        "args_SAGE = {\n",
        "    'device': device,\n",
        "    'num_layers': 3,\n",
        "    'hidden_dim': 256,\n",
        "    'lr': 0.01,\n",
        "    'epochs': 100,\n",
        "}\n",
        "\n",
        "#model_SAGE = SAGEConv(data.num_features, dataset.num_classes, aggr = args_SAGE['aggr'] ).to(device)\n",
        "\n",
        "model_SAGE = SAGEConv3(data.num_features, dataset.num_classes).to(device)\n",
        "\n",
        "optimizer_SAGE = torch.optim.Adam(model_SAGE.parameters(), lr=args_SAGE['lr'])\n",
        "loss_fn = F.nll_loss\n",
        "\n",
        "evaluator = Evaluator(name='ogbn-arxiv')\n",
        "\n",
        "best_model = None\n",
        "best_valid_acc = 0\n",
        "\n",
        "for epoch in range(1, 1 + args_SAGE[\"epochs\"]):\n",
        "      loss = train_GNN(model_SAGE, data, split_idx['train'], optimizer_SAGE, loss_fn)\n",
        "\n",
        "      result = test_GNN(model_SAGE, data, split_idx, evaluator)\n",
        "      train_acc, valid_acc, test_acc = result\n",
        "      if valid_acc > best_valid_acc:\n",
        "        best_valid_acc = valid_acc\n",
        "        best_model = copy.deepcopy(model_SAGE)\n",
        "        print(f'Epoch: {epoch:02d}, '\n",
        "              f'Loss: {loss:.4f}, '\n",
        "              f'Train: {100 * train_acc:.2f}%, '\n",
        "              f'Valid: {100 * valid_acc:.2f}% '\n",
        "              f'Test: {100 * test_acc:.2f}%')\n",
        "\n",
        "best_result = test_GNN(best_model, data, split_idx, evaluator)\n",
        "train_acc, valid_acc, test_acc = best_result\n",
        "print(f'Best model: '\n",
        "          f'Train: {100 * train_acc:.2f}%, '\n",
        "          f'Valid: {100 * valid_acc:.2f}% '\n",
        "          f'Test: {100 * test_acc:.2f}%')"
      ]
    },
    {
      "cell_type": "markdown",
      "metadata": {
        "id": "cwRGAcjxVI1b"
      },
      "source": [
        "\n",
        "##Q2. (20 points) How was the prediction performance of GCN model? Compare with MLP model and discuss about the results. <br><br>\n",
        "\n",
        "##Q3. (20 points) How was the prediction performance of GraphSAGE? Use different aggregation function (use parameter 'aggr' in SAGEConv) and compare the performances. Discuss about the results. <br><br>\n",
        "\n",
        "##Q4. (20 points) For a GCN model, change the number of layers (args.num_layers) into 10. How is the performance now? Discuss about the results. <br><br>\n",
        "\n",
        "##Q5. (10 points) Suggest your strategy to improve the performance. Hint: You can use the building blocks for DNN as we learned in our class (Refer https://pytorch.org/docs/stable/nn.html). <br><br>"
      ]
    }
  ],
  "metadata": {
    "accelerator": "GPU",
    "colab": {
      "collapsed_sections": [],
      "provenance": []
    },
    "gpuClass": "standard",
    "kernelspec": {
      "display_name": "Python 3.9.13 ('bethel_env_gnn_39')",
      "language": "python",
      "name": "python3"
    },
    "language_info": {
      "codemirror_mode": {
        "name": "ipython",
        "version": 3
      },
      "file_extension": ".py",
      "mimetype": "text/x-python",
      "name": "python",
      "nbconvert_exporter": "python",
      "pygments_lexer": "ipython3",
      "version": "3.9.13"
    },
    "vscode": {
      "interpreter": {
        "hash": "83db4bc4f6ae2a22d24d1332a7625f3a1c0ed934d78ce552dc6a54b432f010ce"
      }
    }
  },
  "nbformat": 4,
  "nbformat_minor": 0
}
