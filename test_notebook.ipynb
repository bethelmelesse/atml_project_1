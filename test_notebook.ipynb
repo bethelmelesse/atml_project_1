{
 "cells": [
  {
   "cell_type": "code",
   "execution_count": null,
   "metadata": {},
   "outputs": [],
   "source": []
  }
 ],
 "metadata": {
  "kernelspec": {
   "display_name": "Python 3.9.13 ('bethel_env_gnn_39')",
   "language": "python",
   "name": "python3"
  },
  "language_info": {
   "name": "python",
   "version": "3.9.13"
  },
  "orig_nbformat": 4,
  "vscode": {
   "interpreter": {
    "hash": "83db4bc4f6ae2a22d24d1332a7625f3a1c0ed934d78ce552dc6a54b432f010ce"
   }
  }
 },
 "nbformat": 4,
 "nbformat_minor": 2
}
